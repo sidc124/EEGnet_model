{
  "cells": [
    {
      "cell_type": "markdown",
      "metadata": {
        "id": "view-in-github",
        "colab_type": "text"
      },
      "source": [
        "<a href=\"https://colab.research.google.com/github/sidc124/EEGnet_model/blob/main/Copy_of_EEG_Net.ipynb\" target=\"_parent\"><img src=\"https://colab.research.google.com/assets/colab-badge.svg\" alt=\"Open In Colab\"/></a>"
      ]
    },
    {
      "cell_type": "markdown",
      "id": "f3d56c3c",
      "metadata": {
        "id": "f3d56c3c"
      },
      "source": [
        "# Alzheimer's vs. Dementia EEG Classification — End-to-End Deep Learning Pipeline\n",
        "\n",
        "This notebook implements the full pipeline you described:\n",
        "1) **Find common channels** across OpenNeuro datasets and align them  \n",
        "2) **Preprocess** (filtering, referencing, resampling)  \n",
        "3) **Segment** signals into fixed-size windows and **standardize shapes** (pad/crop)  \n",
        "4) **Build datasets** and loaders for train/val/test (subject-wise splits)  \n",
        "5) **Train baselines** (EEGNet) and a **custom hybrid model** that aims to outperform EEGNet  \n",
        "6) **Evaluate & cross-test** across datasets (train on one, test on the other)  \n",
        "7) **Result analysis** with metrics and confusion matrices"
      ]
    },
    {
      "cell_type": "markdown",
      "id": "3137d6a3",
      "metadata": {
        "id": "3137d6a3"
      },
      "source": [
        "## 1. Setup & Config"
      ]
    },
    {
      "cell_type": "code",
      "execution_count": null,
      "id": "5cb2a71b",
      "metadata": {
        "colab": {
          "base_uri": "https://localhost:8080/"
        },
        "id": "5cb2a71b",
        "outputId": "abc8788b-4dbb-4a28-fe21-6bb0ef45e086"
      },
      "outputs": [
        {
          "output_type": "stream",
          "name": "stdout",
          "text": [
            "Mounted at /content/drive\n",
            "sub-hc1_ses-hc_task-rest_channels.tsv  sub-hc1_ses-hc_task-rest_eeg.json\n",
            "sub-hc1_ses-hc_task-rest_eeg.bdf       sub-hc1_ses-hc_task-rest_events.tsv\n",
            "Found 88 .set files\n",
            "Found 46 .bdf files\n",
            "Example .set file: /content/drive/MyDrive/EEG_Project/dataset_1/sub-005/eeg/sub-005_task-eyesclosed_eeg.set\n",
            "Example .bdf file: /content/drive/MyDrive/EEG_Project/dataset_2/sub-hc7/ses-hc/eeg/sub-hc7_ses-hc_task-rest_eeg.bdf\n"
          ]
        }
      ],
      "source": [
        "from google.colab import drive\n",
        "drive.mount('/content/drive')\n",
        "!ls \"/content/drive/MyDrive/EEG_Project/dataset_2/sub-hc1/ses-hc/eeg\"\n",
        "import glob\n",
        "import os\n",
        "\n",
        "# Base directory in Google Drive\n",
        "base_path = \"/content/drive/MyDrive/EEG_Project\"\n",
        "\n",
        "# Find all .set and .bdf files\n",
        "set_files = glob.glob(os.path.join(base_path, \"**\", \"*.set\"), recursive=True)\n",
        "bdf_files = glob.glob(os.path.join(base_path, \"**\", \"*.bdf\"), recursive=True)\n",
        "\n",
        "print(f\"Found {len(set_files)} .set files\")\n",
        "print(f\"Found {len(bdf_files)} .bdf files\")\n",
        "\n",
        "# Check a few results\n",
        "print(\"Example .set file:\", set_files[0] if set_files else \"None found\")\n",
        "print(\"Example .bdf file:\", bdf_files[0] if bdf_files else \"None found\")\n"
      ]
    },
    {
      "cell_type": "markdown",
      "id": "ca409b3b",
      "metadata": {
        "id": "ca409b3b"
      },
      "source": [
        "## 2. Channels finding and common channels"
      ]
    },
    {
      "cell_type": "code",
      "execution_count": null,
      "id": "5bfd1174",
      "metadata": {
        "colab": {
          "base_uri": "https://localhost:8080/"
        },
        "id": "5bfd1174",
        "outputId": "82f91472-24e3-4716-8592-4b49c51712ae"
      },
      "outputs": [
        {
          "output_type": "stream",
          "name": "stdout",
          "text": [
            "Collecting mne\n",
            "  Downloading mne-1.10.1-py3-none-any.whl.metadata (20 kB)\n",
            "Requirement already satisfied: decorator in /usr/local/lib/python3.12/dist-packages (from mne) (4.4.2)\n",
            "Requirement already satisfied: jinja2 in /usr/local/lib/python3.12/dist-packages (from mne) (3.1.6)\n",
            "Requirement already satisfied: lazy-loader>=0.3 in /usr/local/lib/python3.12/dist-packages (from mne) (0.4)\n",
            "Requirement already satisfied: matplotlib>=3.7 in /usr/local/lib/python3.12/dist-packages (from mne) (3.10.0)\n",
            "Requirement already satisfied: numpy<3,>=1.25 in /usr/local/lib/python3.12/dist-packages (from mne) (2.0.2)\n",
            "Requirement already satisfied: packaging in /usr/local/lib/python3.12/dist-packages (from mne) (25.0)\n",
            "Requirement already satisfied: pooch>=1.5 in /usr/local/lib/python3.12/dist-packages (from mne) (1.8.2)\n",
            "Requirement already satisfied: scipy>=1.11 in /usr/local/lib/python3.12/dist-packages (from mne) (1.16.2)\n",
            "Requirement already satisfied: tqdm in /usr/local/lib/python3.12/dist-packages (from mne) (4.67.1)\n",
            "Requirement already satisfied: contourpy>=1.0.1 in /usr/local/lib/python3.12/dist-packages (from matplotlib>=3.7->mne) (1.3.3)\n",
            "Requirement already satisfied: cycler>=0.10 in /usr/local/lib/python3.12/dist-packages (from matplotlib>=3.7->mne) (0.12.1)\n",
            "Requirement already satisfied: fonttools>=4.22.0 in /usr/local/lib/python3.12/dist-packages (from matplotlib>=3.7->mne) (4.60.1)\n",
            "Requirement already satisfied: kiwisolver>=1.3.1 in /usr/local/lib/python3.12/dist-packages (from matplotlib>=3.7->mne) (1.4.9)\n",
            "Requirement already satisfied: pillow>=8 in /usr/local/lib/python3.12/dist-packages (from matplotlib>=3.7->mne) (11.3.0)\n",
            "Requirement already satisfied: pyparsing>=2.3.1 in /usr/local/lib/python3.12/dist-packages (from matplotlib>=3.7->mne) (3.2.5)\n",
            "Requirement already satisfied: python-dateutil>=2.7 in /usr/local/lib/python3.12/dist-packages (from matplotlib>=3.7->mne) (2.9.0.post0)\n",
            "Requirement already satisfied: platformdirs>=2.5.0 in /usr/local/lib/python3.12/dist-packages (from pooch>=1.5->mne) (4.4.0)\n",
            "Requirement already satisfied: requests>=2.19.0 in /usr/local/lib/python3.12/dist-packages (from pooch>=1.5->mne) (2.32.4)\n",
            "Requirement already satisfied: MarkupSafe>=2.0 in /usr/local/lib/python3.12/dist-packages (from jinja2->mne) (3.0.3)\n",
            "Requirement already satisfied: six>=1.5 in /usr/local/lib/python3.12/dist-packages (from python-dateutil>=2.7->matplotlib>=3.7->mne) (1.17.0)\n",
            "Requirement already satisfied: charset_normalizer<4,>=2 in /usr/local/lib/python3.12/dist-packages (from requests>=2.19.0->pooch>=1.5->mne) (3.4.3)\n",
            "Requirement already satisfied: idna<4,>=2.5 in /usr/local/lib/python3.12/dist-packages (from requests>=2.19.0->pooch>=1.5->mne) (3.10)\n",
            "Requirement already satisfied: urllib3<3,>=1.21.1 in /usr/local/lib/python3.12/dist-packages (from requests>=2.19.0->pooch>=1.5->mne) (2.5.0)\n",
            "Requirement already satisfied: certifi>=2017.4.17 in /usr/local/lib/python3.12/dist-packages (from requests>=2.19.0->pooch>=1.5->mne) (2025.8.3)\n",
            "Downloading mne-1.10.1-py3-none-any.whl (7.4 MB)\n",
            "\u001b[2K   \u001b[90m━━━━━━━━━━━━━━━━━━━━━━━━━━━━━━━━━━━━━━━━\u001b[0m \u001b[32m7.4/7.4 MB\u001b[0m \u001b[31m49.4 MB/s\u001b[0m eta \u001b[36m0:00:00\u001b[0m\n",
            "\u001b[?25hInstalling collected packages: mne\n",
            "Successfully installed mne-1.10.1\n"
          ]
        },
        {
          "output_type": "stream",
          "name": "stderr",
          "text": [
            "/tmp/ipython-input-1621918465.py:9: RuntimeWarning: Data will be preloaded. preload=False or a string preload is not supported when the data is stored in the .set file\n",
            "  raw_set = mne.io.read_raw_eeglab(sample_set_file, preload=False)\n"
          ]
        },
        {
          "output_type": "stream",
          "name": "stdout",
          "text": [
            "Extracting EDF parameters from /content/drive/MyDrive/EEG_Project/dataset_2/sub-hc7/ses-hc/eeg/sub-hc7_ses-hc_task-rest_eeg.bdf...\n",
            "BDF file detected\n",
            "Setting channel info structure...\n",
            "Creating raw.info structure...\n",
            "Channels in .set dataset: ['Fp1', 'Fp2', 'F3', 'F4', 'C3', 'C4', 'P3', 'P4', 'O1', 'O2', 'F7', 'F8', 'T3', 'T4', 'T5', 'T6', 'Fz', 'Cz', 'Pz']\n",
            "Channels in .bdf dataset: ['Fp1', 'AF3', 'F7', 'F3', 'FC1', 'FC5', 'T7', 'C3', 'CP1', 'CP5', 'P7', 'P3', 'Pz', 'PO3', 'O1', 'Oz', 'O2', 'PO4', 'P4', 'P8', 'CP6', 'CP2', 'C4', 'T8', 'FC6', 'FC2', 'F4', 'F8', 'AF4', 'Fp2', 'Fz', 'Cz', 'EXG1', 'EXG2', 'EXG3', 'EXG4', 'EXG5', 'EXG6', 'EXG7', 'EXG8', 'Status']\n",
            "Number of common channels: 15\n",
            "Common channels: ['F4', 'F7', 'C3', 'O2', 'Fp1', 'Pz', 'O1', 'F8', 'C4', 'Fz', 'P4', 'Fp2', 'F3', 'Cz', 'P3']\n"
          ]
        }
      ],
      "source": [
        "\n",
        "!pip install mne\n",
        "import mne\n",
        "\n",
        "# Pick one file from each dataset\n",
        "sample_set_file = set_files[0]\n",
        "sample_bdf_file = bdf_files[0]\n",
        "\n",
        "# Load raw data without preprocessing\n",
        "raw_set = mne.io.read_raw_eeglab(sample_set_file, preload=False)\n",
        "raw_bdf = mne.io.read_raw_bdf(sample_bdf_file, preload=False)\n",
        "\n",
        "# Get channel names\n",
        "channels_set = raw_set.info[\"ch_names\"]\n",
        "channels_bdf = raw_bdf.info[\"ch_names\"]\n",
        "\n",
        "print(\"Channels in .set dataset:\", channels_set)\n",
        "print(\"Channels in .bdf dataset:\", channels_bdf)\n",
        "\n",
        "# Find common channels\n",
        "common_channels = list(set(channels_set).intersection(set(channels_bdf)))\n",
        "print(f\"Number of common channels: {len(common_channels)}\")\n",
        "print(\"Common channels:\", common_channels)\n"
      ]
    },
    {
      "cell_type": "markdown",
      "id": "149f88f1",
      "metadata": {
        "id": "149f88f1"
      },
      "source": [
        "## 3. reordering the dataset\n"
      ]
    },
    {
      "cell_type": "code",
      "execution_count": null,
      "id": "d5ef836f",
      "metadata": {
        "id": "d5ef836f",
        "colab": {
          "base_uri": "https://localhost:8080/"
        },
        "outputId": "f55407c4-c5f8-4479-e4c5-2121c10168a9"
      },
      "outputs": [
        {
          "output_type": "stream",
          "name": "stdout",
          "text": [
            "Final channel order: ['Fp1', 'Fp2', 'F3', 'F4', 'C3', 'C4', 'P3', 'P4', 'O1', 'O2', 'F7', 'F8', 'Fz', 'Cz', 'Pz']\n",
            "NOTE: pick_channels() is a legacy function. New code should use inst.pick(...).\n",
            "NOTE: pick_channels() is a legacy function. New code should use inst.pick(...).\n"
          ]
        },
        {
          "output_type": "stream",
          "name": "stderr",
          "text": [
            "/tmp/ipython-input-1251132072.py:11: RuntimeWarning: The data contains 'boundary' events, indicating data discontinuities. Be cautious of filtering and epoching around these events.\n",
            "  raw = mne.io.read_raw_eeglab(filepath, preload=True)\n"
          ]
        },
        {
          "output_type": "stream",
          "name": "stdout",
          "text": [
            "NOTE: pick_channels() is a legacy function. New code should use inst.pick(...).\n",
            "NOTE: pick_channels() is a legacy function. New code should use inst.pick(...).\n"
          ]
        },
        {
          "output_type": "stream",
          "name": "stderr",
          "text": [
            "/tmp/ipython-input-1251132072.py:11: RuntimeWarning: The data contains 'boundary' events, indicating data discontinuities. Be cautious of filtering and epoching around these events.\n",
            "  raw = mne.io.read_raw_eeglab(filepath, preload=True)\n"
          ]
        },
        {
          "output_type": "stream",
          "name": "stdout",
          "text": [
            "NOTE: pick_channels() is a legacy function. New code should use inst.pick(...).\n"
          ]
        },
        {
          "output_type": "stream",
          "name": "stderr",
          "text": [
            "/tmp/ipython-input-1251132072.py:11: RuntimeWarning: The data contains 'boundary' events, indicating data discontinuities. Be cautious of filtering and epoching around these events.\n",
            "  raw = mne.io.read_raw_eeglab(filepath, preload=True)\n"
          ]
        },
        {
          "output_type": "stream",
          "name": "stdout",
          "text": [
            "NOTE: pick_channels() is a legacy function. New code should use inst.pick(...).\n"
          ]
        },
        {
          "output_type": "stream",
          "name": "stderr",
          "text": [
            "/tmp/ipython-input-1251132072.py:11: RuntimeWarning: The data contains 'boundary' events, indicating data discontinuities. Be cautious of filtering and epoching around these events.\n",
            "  raw = mne.io.read_raw_eeglab(filepath, preload=True)\n"
          ]
        },
        {
          "output_type": "stream",
          "name": "stdout",
          "text": [
            "NOTE: pick_channels() is a legacy function. New code should use inst.pick(...).\n"
          ]
        },
        {
          "output_type": "stream",
          "name": "stderr",
          "text": [
            "/tmp/ipython-input-1251132072.py:11: RuntimeWarning: The data contains 'boundary' events, indicating data discontinuities. Be cautious of filtering and epoching around these events.\n",
            "  raw = mne.io.read_raw_eeglab(filepath, preload=True)\n"
          ]
        },
        {
          "output_type": "stream",
          "name": "stdout",
          "text": [
            "NOTE: pick_channels() is a legacy function. New code should use inst.pick(...).\n",
            "NOTE: pick_channels() is a legacy function. New code should use inst.pick(...).\n"
          ]
        },
        {
          "output_type": "stream",
          "name": "stderr",
          "text": [
            "/tmp/ipython-input-1251132072.py:11: RuntimeWarning: The data contains 'boundary' events, indicating data discontinuities. Be cautious of filtering and epoching around these events.\n",
            "  raw = mne.io.read_raw_eeglab(filepath, preload=True)\n"
          ]
        },
        {
          "output_type": "stream",
          "name": "stdout",
          "text": [
            "NOTE: pick_channels() is a legacy function. New code should use inst.pick(...).\n"
          ]
        },
        {
          "output_type": "stream",
          "name": "stderr",
          "text": [
            "/tmp/ipython-input-1251132072.py:11: RuntimeWarning: The data contains 'boundary' events, indicating data discontinuities. Be cautious of filtering and epoching around these events.\n",
            "  raw = mne.io.read_raw_eeglab(filepath, preload=True)\n"
          ]
        },
        {
          "output_type": "stream",
          "name": "stdout",
          "text": [
            "NOTE: pick_channels() is a legacy function. New code should use inst.pick(...).\n"
          ]
        },
        {
          "output_type": "stream",
          "name": "stderr",
          "text": [
            "/tmp/ipython-input-1251132072.py:11: RuntimeWarning: The data contains 'boundary' events, indicating data discontinuities. Be cautious of filtering and epoching around these events.\n",
            "  raw = mne.io.read_raw_eeglab(filepath, preload=True)\n"
          ]
        },
        {
          "output_type": "stream",
          "name": "stdout",
          "text": [
            "NOTE: pick_channels() is a legacy function. New code should use inst.pick(...).\n"
          ]
        },
        {
          "output_type": "stream",
          "name": "stderr",
          "text": [
            "/tmp/ipython-input-1251132072.py:11: RuntimeWarning: The data contains 'boundary' events, indicating data discontinuities. Be cautious of filtering and epoching around these events.\n",
            "  raw = mne.io.read_raw_eeglab(filepath, preload=True)\n"
          ]
        },
        {
          "output_type": "stream",
          "name": "stdout",
          "text": [
            "NOTE: pick_channels() is a legacy function. New code should use inst.pick(...).\n"
          ]
        },
        {
          "output_type": "stream",
          "name": "stderr",
          "text": [
            "/tmp/ipython-input-1251132072.py:11: RuntimeWarning: The data contains 'boundary' events, indicating data discontinuities. Be cautious of filtering and epoching around these events.\n",
            "  raw = mne.io.read_raw_eeglab(filepath, preload=True)\n"
          ]
        },
        {
          "output_type": "stream",
          "name": "stdout",
          "text": [
            "NOTE: pick_channels() is a legacy function. New code should use inst.pick(...).\n"
          ]
        },
        {
          "output_type": "stream",
          "name": "stderr",
          "text": [
            "/tmp/ipython-input-1251132072.py:11: RuntimeWarning: The data contains 'boundary' events, indicating data discontinuities. Be cautious of filtering and epoching around these events.\n",
            "  raw = mne.io.read_raw_eeglab(filepath, preload=True)\n"
          ]
        },
        {
          "output_type": "stream",
          "name": "stdout",
          "text": [
            "NOTE: pick_channels() is a legacy function. New code should use inst.pick(...).\n"
          ]
        },
        {
          "output_type": "stream",
          "name": "stderr",
          "text": [
            "/tmp/ipython-input-1251132072.py:11: RuntimeWarning: The data contains 'boundary' events, indicating data discontinuities. Be cautious of filtering and epoching around these events.\n",
            "  raw = mne.io.read_raw_eeglab(filepath, preload=True)\n"
          ]
        },
        {
          "output_type": "stream",
          "name": "stdout",
          "text": [
            "NOTE: pick_channels() is a legacy function. New code should use inst.pick(...).\n"
          ]
        },
        {
          "output_type": "stream",
          "name": "stderr",
          "text": [
            "/tmp/ipython-input-1251132072.py:11: RuntimeWarning: The data contains 'boundary' events, indicating data discontinuities. Be cautious of filtering and epoching around these events.\n",
            "  raw = mne.io.read_raw_eeglab(filepath, preload=True)\n"
          ]
        },
        {
          "output_type": "stream",
          "name": "stdout",
          "text": [
            "NOTE: pick_channels() is a legacy function. New code should use inst.pick(...).\n"
          ]
        },
        {
          "output_type": "stream",
          "name": "stderr",
          "text": [
            "/tmp/ipython-input-1251132072.py:11: RuntimeWarning: The data contains 'boundary' events, indicating data discontinuities. Be cautious of filtering and epoching around these events.\n",
            "  raw = mne.io.read_raw_eeglab(filepath, preload=True)\n"
          ]
        },
        {
          "output_type": "stream",
          "name": "stdout",
          "text": [
            "NOTE: pick_channels() is a legacy function. New code should use inst.pick(...).\n"
          ]
        },
        {
          "output_type": "stream",
          "name": "stderr",
          "text": [
            "/tmp/ipython-input-1251132072.py:11: RuntimeWarning: The data contains 'boundary' events, indicating data discontinuities. Be cautious of filtering and epoching around these events.\n",
            "  raw = mne.io.read_raw_eeglab(filepath, preload=True)\n"
          ]
        },
        {
          "output_type": "stream",
          "name": "stdout",
          "text": [
            "NOTE: pick_channels() is a legacy function. New code should use inst.pick(...).\n"
          ]
        },
        {
          "output_type": "stream",
          "name": "stderr",
          "text": [
            "/tmp/ipython-input-1251132072.py:11: RuntimeWarning: The data contains 'boundary' events, indicating data discontinuities. Be cautious of filtering and epoching around these events.\n",
            "  raw = mne.io.read_raw_eeglab(filepath, preload=True)\n"
          ]
        },
        {
          "output_type": "stream",
          "name": "stdout",
          "text": [
            "NOTE: pick_channels() is a legacy function. New code should use inst.pick(...).\n",
            "NOTE: pick_channels() is a legacy function. New code should use inst.pick(...).\n"
          ]
        },
        {
          "output_type": "stream",
          "name": "stderr",
          "text": [
            "/tmp/ipython-input-1251132072.py:11: RuntimeWarning: The data contains 'boundary' events, indicating data discontinuities. Be cautious of filtering and epoching around these events.\n",
            "  raw = mne.io.read_raw_eeglab(filepath, preload=True)\n"
          ]
        },
        {
          "output_type": "stream",
          "name": "stdout",
          "text": [
            "NOTE: pick_channels() is a legacy function. New code should use inst.pick(...).\n"
          ]
        },
        {
          "output_type": "stream",
          "name": "stderr",
          "text": [
            "/tmp/ipython-input-1251132072.py:11: RuntimeWarning: The data contains 'boundary' events, indicating data discontinuities. Be cautious of filtering and epoching around these events.\n",
            "  raw = mne.io.read_raw_eeglab(filepath, preload=True)\n"
          ]
        },
        {
          "output_type": "stream",
          "name": "stdout",
          "text": [
            "NOTE: pick_channels() is a legacy function. New code should use inst.pick(...).\n"
          ]
        },
        {
          "output_type": "stream",
          "name": "stderr",
          "text": [
            "/tmp/ipython-input-1251132072.py:11: RuntimeWarning: The data contains 'boundary' events, indicating data discontinuities. Be cautious of filtering and epoching around these events.\n",
            "  raw = mne.io.read_raw_eeglab(filepath, preload=True)\n"
          ]
        },
        {
          "output_type": "stream",
          "name": "stdout",
          "text": [
            "NOTE: pick_channels() is a legacy function. New code should use inst.pick(...).\n"
          ]
        },
        {
          "output_type": "stream",
          "name": "stderr",
          "text": [
            "/tmp/ipython-input-1251132072.py:11: RuntimeWarning: The data contains 'boundary' events, indicating data discontinuities. Be cautious of filtering and epoching around these events.\n",
            "  raw = mne.io.read_raw_eeglab(filepath, preload=True)\n"
          ]
        },
        {
          "output_type": "stream",
          "name": "stdout",
          "text": [
            "NOTE: pick_channels() is a legacy function. New code should use inst.pick(...).\n"
          ]
        },
        {
          "output_type": "stream",
          "name": "stderr",
          "text": [
            "/tmp/ipython-input-1251132072.py:11: RuntimeWarning: The data contains 'boundary' events, indicating data discontinuities. Be cautious of filtering and epoching around these events.\n",
            "  raw = mne.io.read_raw_eeglab(filepath, preload=True)\n"
          ]
        },
        {
          "output_type": "stream",
          "name": "stdout",
          "text": [
            "NOTE: pick_channels() is a legacy function. New code should use inst.pick(...).\n"
          ]
        },
        {
          "output_type": "stream",
          "name": "stderr",
          "text": [
            "/tmp/ipython-input-1251132072.py:11: RuntimeWarning: The data contains 'boundary' events, indicating data discontinuities. Be cautious of filtering and epoching around these events.\n",
            "  raw = mne.io.read_raw_eeglab(filepath, preload=True)\n"
          ]
        },
        {
          "output_type": "stream",
          "name": "stdout",
          "text": [
            "NOTE: pick_channels() is a legacy function. New code should use inst.pick(...).\n"
          ]
        },
        {
          "output_type": "stream",
          "name": "stderr",
          "text": [
            "/tmp/ipython-input-1251132072.py:11: RuntimeWarning: The data contains 'boundary' events, indicating data discontinuities. Be cautious of filtering and epoching around these events.\n",
            "  raw = mne.io.read_raw_eeglab(filepath, preload=True)\n"
          ]
        },
        {
          "output_type": "stream",
          "name": "stdout",
          "text": [
            "NOTE: pick_channels() is a legacy function. New code should use inst.pick(...).\n"
          ]
        },
        {
          "output_type": "stream",
          "name": "stderr",
          "text": [
            "/tmp/ipython-input-1251132072.py:11: RuntimeWarning: The data contains 'boundary' events, indicating data discontinuities. Be cautious of filtering and epoching around these events.\n",
            "  raw = mne.io.read_raw_eeglab(filepath, preload=True)\n"
          ]
        },
        {
          "output_type": "stream",
          "name": "stdout",
          "text": [
            "NOTE: pick_channels() is a legacy function. New code should use inst.pick(...).\n"
          ]
        },
        {
          "output_type": "stream",
          "name": "stderr",
          "text": [
            "/tmp/ipython-input-1251132072.py:11: RuntimeWarning: The data contains 'boundary' events, indicating data discontinuities. Be cautious of filtering and epoching around these events.\n",
            "  raw = mne.io.read_raw_eeglab(filepath, preload=True)\n"
          ]
        },
        {
          "output_type": "stream",
          "name": "stdout",
          "text": [
            "NOTE: pick_channels() is a legacy function. New code should use inst.pick(...).\n"
          ]
        },
        {
          "output_type": "stream",
          "name": "stderr",
          "text": [
            "/tmp/ipython-input-1251132072.py:11: RuntimeWarning: The data contains 'boundary' events, indicating data discontinuities. Be cautious of filtering and epoching around these events.\n",
            "  raw = mne.io.read_raw_eeglab(filepath, preload=True)\n"
          ]
        },
        {
          "output_type": "stream",
          "name": "stdout",
          "text": [
            "NOTE: pick_channels() is a legacy function. New code should use inst.pick(...).\n"
          ]
        },
        {
          "output_type": "stream",
          "name": "stderr",
          "text": [
            "/tmp/ipython-input-1251132072.py:11: RuntimeWarning: The data contains 'boundary' events, indicating data discontinuities. Be cautious of filtering and epoching around these events.\n",
            "  raw = mne.io.read_raw_eeglab(filepath, preload=True)\n"
          ]
        },
        {
          "output_type": "stream",
          "name": "stdout",
          "text": [
            "NOTE: pick_channels() is a legacy function. New code should use inst.pick(...).\n"
          ]
        },
        {
          "output_type": "stream",
          "name": "stderr",
          "text": [
            "/tmp/ipython-input-1251132072.py:11: RuntimeWarning: The data contains 'boundary' events, indicating data discontinuities. Be cautious of filtering and epoching around these events.\n",
            "  raw = mne.io.read_raw_eeglab(filepath, preload=True)\n"
          ]
        },
        {
          "output_type": "stream",
          "name": "stdout",
          "text": [
            "NOTE: pick_channels() is a legacy function. New code should use inst.pick(...).\n"
          ]
        },
        {
          "output_type": "stream",
          "name": "stderr",
          "text": [
            "/tmp/ipython-input-1251132072.py:11: RuntimeWarning: The data contains 'boundary' events, indicating data discontinuities. Be cautious of filtering and epoching around these events.\n",
            "  raw = mne.io.read_raw_eeglab(filepath, preload=True)\n"
          ]
        },
        {
          "output_type": "stream",
          "name": "stdout",
          "text": [
            "NOTE: pick_channels() is a legacy function. New code should use inst.pick(...).\n"
          ]
        },
        {
          "output_type": "stream",
          "name": "stderr",
          "text": [
            "/tmp/ipython-input-1251132072.py:11: RuntimeWarning: The data contains 'boundary' events, indicating data discontinuities. Be cautious of filtering and epoching around these events.\n",
            "  raw = mne.io.read_raw_eeglab(filepath, preload=True)\n"
          ]
        },
        {
          "output_type": "stream",
          "name": "stdout",
          "text": [
            "NOTE: pick_channels() is a legacy function. New code should use inst.pick(...).\n"
          ]
        },
        {
          "output_type": "stream",
          "name": "stderr",
          "text": [
            "/tmp/ipython-input-1251132072.py:11: RuntimeWarning: The data contains 'boundary' events, indicating data discontinuities. Be cautious of filtering and epoching around these events.\n",
            "  raw = mne.io.read_raw_eeglab(filepath, preload=True)\n"
          ]
        },
        {
          "output_type": "stream",
          "name": "stdout",
          "text": [
            "NOTE: pick_channels() is a legacy function. New code should use inst.pick(...).\n",
            "NOTE: pick_channels() is a legacy function. New code should use inst.pick(...).\n"
          ]
        },
        {
          "output_type": "stream",
          "name": "stderr",
          "text": [
            "/tmp/ipython-input-1251132072.py:11: RuntimeWarning: The data contains 'boundary' events, indicating data discontinuities. Be cautious of filtering and epoching around these events.\n",
            "  raw = mne.io.read_raw_eeglab(filepath, preload=True)\n"
          ]
        },
        {
          "output_type": "stream",
          "name": "stdout",
          "text": [
            "NOTE: pick_channels() is a legacy function. New code should use inst.pick(...).\n"
          ]
        },
        {
          "output_type": "stream",
          "name": "stderr",
          "text": [
            "/tmp/ipython-input-1251132072.py:11: RuntimeWarning: The data contains 'boundary' events, indicating data discontinuities. Be cautious of filtering and epoching around these events.\n",
            "  raw = mne.io.read_raw_eeglab(filepath, preload=True)\n"
          ]
        },
        {
          "output_type": "stream",
          "name": "stdout",
          "text": [
            "NOTE: pick_channels() is a legacy function. New code should use inst.pick(...).\n"
          ]
        },
        {
          "output_type": "stream",
          "name": "stderr",
          "text": [
            "/tmp/ipython-input-1251132072.py:11: RuntimeWarning: The data contains 'boundary' events, indicating data discontinuities. Be cautious of filtering and epoching around these events.\n",
            "  raw = mne.io.read_raw_eeglab(filepath, preload=True)\n"
          ]
        },
        {
          "output_type": "stream",
          "name": "stdout",
          "text": [
            "NOTE: pick_channels() is a legacy function. New code should use inst.pick(...).\n"
          ]
        },
        {
          "output_type": "stream",
          "name": "stderr",
          "text": [
            "/tmp/ipython-input-1251132072.py:11: RuntimeWarning: The data contains 'boundary' events, indicating data discontinuities. Be cautious of filtering and epoching around these events.\n",
            "  raw = mne.io.read_raw_eeglab(filepath, preload=True)\n"
          ]
        },
        {
          "output_type": "stream",
          "name": "stdout",
          "text": [
            "NOTE: pick_channels() is a legacy function. New code should use inst.pick(...).\n"
          ]
        },
        {
          "output_type": "stream",
          "name": "stderr",
          "text": [
            "/tmp/ipython-input-1251132072.py:11: RuntimeWarning: The data contains 'boundary' events, indicating data discontinuities. Be cautious of filtering and epoching around these events.\n",
            "  raw = mne.io.read_raw_eeglab(filepath, preload=True)\n"
          ]
        },
        {
          "output_type": "stream",
          "name": "stdout",
          "text": [
            "NOTE: pick_channels() is a legacy function. New code should use inst.pick(...).\n"
          ]
        },
        {
          "output_type": "stream",
          "name": "stderr",
          "text": [
            "/tmp/ipython-input-1251132072.py:11: RuntimeWarning: The data contains 'boundary' events, indicating data discontinuities. Be cautious of filtering and epoching around these events.\n",
            "  raw = mne.io.read_raw_eeglab(filepath, preload=True)\n"
          ]
        },
        {
          "output_type": "stream",
          "name": "stdout",
          "text": [
            "NOTE: pick_channels() is a legacy function. New code should use inst.pick(...).\n",
            "NOTE: pick_channels() is a legacy function. New code should use inst.pick(...).\n",
            "NOTE: pick_channels() is a legacy function. New code should use inst.pick(...).\n"
          ]
        },
        {
          "output_type": "stream",
          "name": "stderr",
          "text": [
            "/tmp/ipython-input-1251132072.py:11: RuntimeWarning: The data contains 'boundary' events, indicating data discontinuities. Be cautious of filtering and epoching around these events.\n",
            "  raw = mne.io.read_raw_eeglab(filepath, preload=True)\n"
          ]
        },
        {
          "output_type": "stream",
          "name": "stdout",
          "text": [
            "NOTE: pick_channels() is a legacy function. New code should use inst.pick(...).\n"
          ]
        },
        {
          "output_type": "stream",
          "name": "stderr",
          "text": [
            "/tmp/ipython-input-1251132072.py:11: RuntimeWarning: The data contains 'boundary' events, indicating data discontinuities. Be cautious of filtering and epoching around these events.\n",
            "  raw = mne.io.read_raw_eeglab(filepath, preload=True)\n"
          ]
        },
        {
          "output_type": "stream",
          "name": "stdout",
          "text": [
            "NOTE: pick_channels() is a legacy function. New code should use inst.pick(...).\n"
          ]
        },
        {
          "output_type": "stream",
          "name": "stderr",
          "text": [
            "/tmp/ipython-input-1251132072.py:11: RuntimeWarning: The data contains 'boundary' events, indicating data discontinuities. Be cautious of filtering and epoching around these events.\n",
            "  raw = mne.io.read_raw_eeglab(filepath, preload=True)\n"
          ]
        },
        {
          "output_type": "stream",
          "name": "stdout",
          "text": [
            "NOTE: pick_channels() is a legacy function. New code should use inst.pick(...).\n"
          ]
        },
        {
          "output_type": "stream",
          "name": "stderr",
          "text": [
            "/tmp/ipython-input-1251132072.py:11: RuntimeWarning: The data contains 'boundary' events, indicating data discontinuities. Be cautious of filtering and epoching around these events.\n",
            "  raw = mne.io.read_raw_eeglab(filepath, preload=True)\n"
          ]
        },
        {
          "output_type": "stream",
          "name": "stdout",
          "text": [
            "NOTE: pick_channels() is a legacy function. New code should use inst.pick(...).\n"
          ]
        },
        {
          "output_type": "stream",
          "name": "stderr",
          "text": [
            "/tmp/ipython-input-1251132072.py:11: RuntimeWarning: The data contains 'boundary' events, indicating data discontinuities. Be cautious of filtering and epoching around these events.\n",
            "  raw = mne.io.read_raw_eeglab(filepath, preload=True)\n"
          ]
        },
        {
          "output_type": "stream",
          "name": "stdout",
          "text": [
            "NOTE: pick_channels() is a legacy function. New code should use inst.pick(...).\n"
          ]
        },
        {
          "output_type": "stream",
          "name": "stderr",
          "text": [
            "/tmp/ipython-input-1251132072.py:11: RuntimeWarning: The data contains 'boundary' events, indicating data discontinuities. Be cautious of filtering and epoching around these events.\n",
            "  raw = mne.io.read_raw_eeglab(filepath, preload=True)\n"
          ]
        },
        {
          "output_type": "stream",
          "name": "stdout",
          "text": [
            "NOTE: pick_channels() is a legacy function. New code should use inst.pick(...).\n"
          ]
        },
        {
          "output_type": "stream",
          "name": "stderr",
          "text": [
            "/tmp/ipython-input-1251132072.py:11: RuntimeWarning: The data contains 'boundary' events, indicating data discontinuities. Be cautious of filtering and epoching around these events.\n",
            "  raw = mne.io.read_raw_eeglab(filepath, preload=True)\n"
          ]
        },
        {
          "output_type": "stream",
          "name": "stdout",
          "text": [
            "NOTE: pick_channels() is a legacy function. New code should use inst.pick(...).\n"
          ]
        },
        {
          "output_type": "stream",
          "name": "stderr",
          "text": [
            "/tmp/ipython-input-1251132072.py:11: RuntimeWarning: The data contains 'boundary' events, indicating data discontinuities. Be cautious of filtering and epoching around these events.\n",
            "  raw = mne.io.read_raw_eeglab(filepath, preload=True)\n"
          ]
        },
        {
          "output_type": "stream",
          "name": "stdout",
          "text": [
            "NOTE: pick_channels() is a legacy function. New code should use inst.pick(...).\n"
          ]
        },
        {
          "output_type": "stream",
          "name": "stderr",
          "text": [
            "/tmp/ipython-input-1251132072.py:11: RuntimeWarning: The data contains 'boundary' events, indicating data discontinuities. Be cautious of filtering and epoching around these events.\n",
            "  raw = mne.io.read_raw_eeglab(filepath, preload=True)\n"
          ]
        },
        {
          "output_type": "stream",
          "name": "stdout",
          "text": [
            "NOTE: pick_channels() is a legacy function. New code should use inst.pick(...).\n"
          ]
        },
        {
          "output_type": "stream",
          "name": "stderr",
          "text": [
            "/tmp/ipython-input-1251132072.py:11: RuntimeWarning: The data contains 'boundary' events, indicating data discontinuities. Be cautious of filtering and epoching around these events.\n",
            "  raw = mne.io.read_raw_eeglab(filepath, preload=True)\n"
          ]
        },
        {
          "output_type": "stream",
          "name": "stdout",
          "text": [
            "NOTE: pick_channels() is a legacy function. New code should use inst.pick(...).\n"
          ]
        },
        {
          "output_type": "stream",
          "name": "stderr",
          "text": [
            "/tmp/ipython-input-1251132072.py:11: RuntimeWarning: The data contains 'boundary' events, indicating data discontinuities. Be cautious of filtering and epoching around these events.\n",
            "  raw = mne.io.read_raw_eeglab(filepath, preload=True)\n"
          ]
        },
        {
          "output_type": "stream",
          "name": "stdout",
          "text": [
            "NOTE: pick_channels() is a legacy function. New code should use inst.pick(...).\n"
          ]
        },
        {
          "output_type": "stream",
          "name": "stderr",
          "text": [
            "/tmp/ipython-input-1251132072.py:11: RuntimeWarning: The data contains 'boundary' events, indicating data discontinuities. Be cautious of filtering and epoching around these events.\n",
            "  raw = mne.io.read_raw_eeglab(filepath, preload=True)\n"
          ]
        },
        {
          "output_type": "stream",
          "name": "stdout",
          "text": [
            "NOTE: pick_channels() is a legacy function. New code should use inst.pick(...).\n",
            "NOTE: pick_channels() is a legacy function. New code should use inst.pick(...).\n"
          ]
        },
        {
          "output_type": "stream",
          "name": "stderr",
          "text": [
            "/tmp/ipython-input-1251132072.py:11: RuntimeWarning: The data contains 'boundary' events, indicating data discontinuities. Be cautious of filtering and epoching around these events.\n",
            "  raw = mne.io.read_raw_eeglab(filepath, preload=True)\n"
          ]
        },
        {
          "output_type": "stream",
          "name": "stdout",
          "text": [
            "NOTE: pick_channels() is a legacy function. New code should use inst.pick(...).\n"
          ]
        },
        {
          "output_type": "stream",
          "name": "stderr",
          "text": [
            "/tmp/ipython-input-1251132072.py:11: RuntimeWarning: The data contains 'boundary' events, indicating data discontinuities. Be cautious of filtering and epoching around these events.\n",
            "  raw = mne.io.read_raw_eeglab(filepath, preload=True)\n"
          ]
        },
        {
          "output_type": "stream",
          "name": "stdout",
          "text": [
            "NOTE: pick_channels() is a legacy function. New code should use inst.pick(...).\n"
          ]
        },
        {
          "output_type": "stream",
          "name": "stderr",
          "text": [
            "/tmp/ipython-input-1251132072.py:11: RuntimeWarning: The data contains 'boundary' events, indicating data discontinuities. Be cautious of filtering and epoching around these events.\n",
            "  raw = mne.io.read_raw_eeglab(filepath, preload=True)\n"
          ]
        },
        {
          "output_type": "stream",
          "name": "stdout",
          "text": [
            "NOTE: pick_channels() is a legacy function. New code should use inst.pick(...).\n"
          ]
        },
        {
          "output_type": "stream",
          "name": "stderr",
          "text": [
            "/tmp/ipython-input-1251132072.py:11: RuntimeWarning: The data contains 'boundary' events, indicating data discontinuities. Be cautious of filtering and epoching around these events.\n",
            "  raw = mne.io.read_raw_eeglab(filepath, preload=True)\n"
          ]
        },
        {
          "output_type": "stream",
          "name": "stdout",
          "text": [
            "NOTE: pick_channels() is a legacy function. New code should use inst.pick(...).\n"
          ]
        },
        {
          "output_type": "stream",
          "name": "stderr",
          "text": [
            "/tmp/ipython-input-1251132072.py:11: RuntimeWarning: The data contains 'boundary' events, indicating data discontinuities. Be cautious of filtering and epoching around these events.\n",
            "  raw = mne.io.read_raw_eeglab(filepath, preload=True)\n"
          ]
        },
        {
          "output_type": "stream",
          "name": "stdout",
          "text": [
            "NOTE: pick_channels() is a legacy function. New code should use inst.pick(...).\n"
          ]
        },
        {
          "output_type": "stream",
          "name": "stderr",
          "text": [
            "/tmp/ipython-input-1251132072.py:11: RuntimeWarning: The data contains 'boundary' events, indicating data discontinuities. Be cautious of filtering and epoching around these events.\n",
            "  raw = mne.io.read_raw_eeglab(filepath, preload=True)\n"
          ]
        },
        {
          "output_type": "stream",
          "name": "stdout",
          "text": [
            "NOTE: pick_channels() is a legacy function. New code should use inst.pick(...).\n"
          ]
        },
        {
          "output_type": "stream",
          "name": "stderr",
          "text": [
            "/tmp/ipython-input-1251132072.py:11: RuntimeWarning: The data contains 'boundary' events, indicating data discontinuities. Be cautious of filtering and epoching around these events.\n",
            "  raw = mne.io.read_raw_eeglab(filepath, preload=True)\n"
          ]
        },
        {
          "output_type": "stream",
          "name": "stdout",
          "text": [
            "NOTE: pick_channels() is a legacy function. New code should use inst.pick(...).\n",
            "NOTE: pick_channels() is a legacy function. New code should use inst.pick(...).\n"
          ]
        },
        {
          "output_type": "stream",
          "name": "stderr",
          "text": [
            "/tmp/ipython-input-1251132072.py:11: RuntimeWarning: The data contains 'boundary' events, indicating data discontinuities. Be cautious of filtering and epoching around these events.\n",
            "  raw = mne.io.read_raw_eeglab(filepath, preload=True)\n"
          ]
        },
        {
          "output_type": "stream",
          "name": "stdout",
          "text": [
            "NOTE: pick_channels() is a legacy function. New code should use inst.pick(...).\n",
            "NOTE: pick_channels() is a legacy function. New code should use inst.pick(...).\n"
          ]
        },
        {
          "output_type": "stream",
          "name": "stderr",
          "text": [
            "/tmp/ipython-input-1251132072.py:11: RuntimeWarning: The data contains 'boundary' events, indicating data discontinuities. Be cautious of filtering and epoching around these events.\n",
            "  raw = mne.io.read_raw_eeglab(filepath, preload=True)\n"
          ]
        },
        {
          "output_type": "stream",
          "name": "stdout",
          "text": [
            "NOTE: pick_channels() is a legacy function. New code should use inst.pick(...).\n"
          ]
        },
        {
          "output_type": "stream",
          "name": "stderr",
          "text": [
            "/tmp/ipython-input-1251132072.py:11: RuntimeWarning: The data contains 'boundary' events, indicating data discontinuities. Be cautious of filtering and epoching around these events.\n",
            "  raw = mne.io.read_raw_eeglab(filepath, preload=True)\n"
          ]
        },
        {
          "output_type": "stream",
          "name": "stdout",
          "text": [
            "NOTE: pick_channels() is a legacy function. New code should use inst.pick(...).\n",
            "NOTE: pick_channels() is a legacy function. New code should use inst.pick(...).\n"
          ]
        },
        {
          "output_type": "stream",
          "name": "stderr",
          "text": [
            "/tmp/ipython-input-1251132072.py:11: RuntimeWarning: The data contains 'boundary' events, indicating data discontinuities. Be cautious of filtering and epoching around these events.\n",
            "  raw = mne.io.read_raw_eeglab(filepath, preload=True)\n"
          ]
        },
        {
          "output_type": "stream",
          "name": "stdout",
          "text": [
            "NOTE: pick_channels() is a legacy function. New code should use inst.pick(...).\n"
          ]
        },
        {
          "output_type": "stream",
          "name": "stderr",
          "text": [
            "/tmp/ipython-input-1251132072.py:11: RuntimeWarning: The data contains 'boundary' events, indicating data discontinuities. Be cautious of filtering and epoching around these events.\n",
            "  raw = mne.io.read_raw_eeglab(filepath, preload=True)\n"
          ]
        },
        {
          "output_type": "stream",
          "name": "stdout",
          "text": [
            "NOTE: pick_channels() is a legacy function. New code should use inst.pick(...).\n"
          ]
        },
        {
          "output_type": "stream",
          "name": "stderr",
          "text": [
            "/tmp/ipython-input-1251132072.py:11: RuntimeWarning: The data contains 'boundary' events, indicating data discontinuities. Be cautious of filtering and epoching around these events.\n",
            "  raw = mne.io.read_raw_eeglab(filepath, preload=True)\n"
          ]
        },
        {
          "output_type": "stream",
          "name": "stdout",
          "text": [
            "NOTE: pick_channels() is a legacy function. New code should use inst.pick(...).\n"
          ]
        },
        {
          "output_type": "stream",
          "name": "stderr",
          "text": [
            "/tmp/ipython-input-1251132072.py:11: RuntimeWarning: The data contains 'boundary' events, indicating data discontinuities. Be cautious of filtering and epoching around these events.\n",
            "  raw = mne.io.read_raw_eeglab(filepath, preload=True)\n"
          ]
        },
        {
          "output_type": "stream",
          "name": "stdout",
          "text": [
            "NOTE: pick_channels() is a legacy function. New code should use inst.pick(...).\n"
          ]
        },
        {
          "output_type": "stream",
          "name": "stderr",
          "text": [
            "/tmp/ipython-input-1251132072.py:11: RuntimeWarning: The data contains 'boundary' events, indicating data discontinuities. Be cautious of filtering and epoching around these events.\n",
            "  raw = mne.io.read_raw_eeglab(filepath, preload=True)\n"
          ]
        },
        {
          "output_type": "stream",
          "name": "stdout",
          "text": [
            "NOTE: pick_channels() is a legacy function. New code should use inst.pick(...).\n"
          ]
        },
        {
          "output_type": "stream",
          "name": "stderr",
          "text": [
            "/tmp/ipython-input-1251132072.py:11: RuntimeWarning: The data contains 'boundary' events, indicating data discontinuities. Be cautious of filtering and epoching around these events.\n",
            "  raw = mne.io.read_raw_eeglab(filepath, preload=True)\n"
          ]
        },
        {
          "output_type": "stream",
          "name": "stdout",
          "text": [
            "NOTE: pick_channels() is a legacy function. New code should use inst.pick(...).\n",
            "NOTE: pick_channels() is a legacy function. New code should use inst.pick(...).\n"
          ]
        },
        {
          "output_type": "stream",
          "name": "stderr",
          "text": [
            "/tmp/ipython-input-1251132072.py:11: RuntimeWarning: The data contains 'boundary' events, indicating data discontinuities. Be cautious of filtering and epoching around these events.\n",
            "  raw = mne.io.read_raw_eeglab(filepath, preload=True)\n"
          ]
        },
        {
          "output_type": "stream",
          "name": "stdout",
          "text": [
            "NOTE: pick_channels() is a legacy function. New code should use inst.pick(...).\n"
          ]
        },
        {
          "output_type": "stream",
          "name": "stderr",
          "text": [
            "/tmp/ipython-input-1251132072.py:11: RuntimeWarning: The data contains 'boundary' events, indicating data discontinuities. Be cautious of filtering and epoching around these events.\n",
            "  raw = mne.io.read_raw_eeglab(filepath, preload=True)\n"
          ]
        },
        {
          "output_type": "stream",
          "name": "stdout",
          "text": [
            "NOTE: pick_channels() is a legacy function. New code should use inst.pick(...).\n"
          ]
        },
        {
          "output_type": "stream",
          "name": "stderr",
          "text": [
            "/tmp/ipython-input-1251132072.py:11: RuntimeWarning: The data contains 'boundary' events, indicating data discontinuities. Be cautious of filtering and epoching around these events.\n",
            "  raw = mne.io.read_raw_eeglab(filepath, preload=True)\n"
          ]
        },
        {
          "output_type": "stream",
          "name": "stdout",
          "text": [
            "NOTE: pick_channels() is a legacy function. New code should use inst.pick(...).\n"
          ]
        },
        {
          "output_type": "stream",
          "name": "stderr",
          "text": [
            "/tmp/ipython-input-1251132072.py:11: RuntimeWarning: The data contains 'boundary' events, indicating data discontinuities. Be cautious of filtering and epoching around these events.\n",
            "  raw = mne.io.read_raw_eeglab(filepath, preload=True)\n"
          ]
        },
        {
          "output_type": "stream",
          "name": "stdout",
          "text": [
            "NOTE: pick_channels() is a legacy function. New code should use inst.pick(...).\n",
            "NOTE: pick_channels() is a legacy function. New code should use inst.pick(...).\n",
            "NOTE: pick_channels() is a legacy function. New code should use inst.pick(...).\n",
            "NOTE: pick_channels() is a legacy function. New code should use inst.pick(...).\n"
          ]
        },
        {
          "output_type": "stream",
          "name": "stderr",
          "text": [
            "/tmp/ipython-input-1251132072.py:11: RuntimeWarning: The data contains 'boundary' events, indicating data discontinuities. Be cautious of filtering and epoching around these events.\n",
            "  raw = mne.io.read_raw_eeglab(filepath, preload=True)\n"
          ]
        },
        {
          "output_type": "stream",
          "name": "stdout",
          "text": [
            "NOTE: pick_channels() is a legacy function. New code should use inst.pick(...).\n"
          ]
        },
        {
          "output_type": "stream",
          "name": "stderr",
          "text": [
            "/tmp/ipython-input-1251132072.py:11: RuntimeWarning: The data contains 'boundary' events, indicating data discontinuities. Be cautious of filtering and epoching around these events.\n",
            "  raw = mne.io.read_raw_eeglab(filepath, preload=True)\n"
          ]
        },
        {
          "output_type": "stream",
          "name": "stdout",
          "text": [
            "NOTE: pick_channels() is a legacy function. New code should use inst.pick(...).\n"
          ]
        },
        {
          "output_type": "stream",
          "name": "stderr",
          "text": [
            "/tmp/ipython-input-1251132072.py:11: RuntimeWarning: The data contains 'boundary' events, indicating data discontinuities. Be cautious of filtering and epoching around these events.\n",
            "  raw = mne.io.read_raw_eeglab(filepath, preload=True)\n"
          ]
        },
        {
          "output_type": "stream",
          "name": "stdout",
          "text": [
            "NOTE: pick_channels() is a legacy function. New code should use inst.pick(...).\n",
            "Extracting EDF parameters from /content/drive/MyDrive/EEG_Project/dataset_2/sub-hc7/ses-hc/eeg/sub-hc7_ses-hc_task-rest_eeg.bdf...\n",
            "BDF file detected\n",
            "Setting channel info structure...\n",
            "Creating raw.info structure...\n",
            "Reading 0 ... 98303  =      0.000 ...   191.998 secs...\n"
          ]
        },
        {
          "output_type": "stream",
          "name": "stderr",
          "text": [
            "/tmp/ipython-input-1251132072.py:11: RuntimeWarning: The data contains 'boundary' events, indicating data discontinuities. Be cautious of filtering and epoching around these events.\n",
            "  raw = mne.io.read_raw_eeglab(filepath, preload=True)\n"
          ]
        },
        {
          "output_type": "stream",
          "name": "stdout",
          "text": [
            "NOTE: pick_channels() is a legacy function. New code should use inst.pick(...).\n",
            "Extracting EDF parameters from /content/drive/MyDrive/EEG_Project/dataset_2/sub-hc1/ses-hc/eeg/sub-hc1_ses-hc_task-rest_eeg.bdf...\n",
            "BDF file detected\n",
            "Setting channel info structure...\n",
            "Creating raw.info structure...\n",
            "Reading 0 ... 98303  =      0.000 ...   191.998 secs...\n",
            "NOTE: pick_channels() is a legacy function. New code should use inst.pick(...).\n",
            "Extracting EDF parameters from /content/drive/MyDrive/EEG_Project/dataset_2/sub-hc2/ses-hc/eeg/sub-hc2_ses-hc_task-rest_eeg.bdf...\n",
            "BDF file detected\n",
            "Setting channel info structure...\n",
            "Creating raw.info structure...\n",
            "Reading 0 ... 99327  =      0.000 ...   193.998 secs...\n",
            "NOTE: pick_channels() is a legacy function. New code should use inst.pick(...).\n",
            "Extracting EDF parameters from /content/drive/MyDrive/EEG_Project/dataset_2/sub-hc21/ses-hc/eeg/sub-hc21_ses-hc_task-rest_eeg.bdf...\n",
            "BDF file detected\n",
            "Setting channel info structure...\n",
            "Creating raw.info structure...\n",
            "Reading 0 ... 96767  =      0.000 ...   188.998 secs...\n",
            "NOTE: pick_channels() is a legacy function. New code should use inst.pick(...).\n",
            "Extracting EDF parameters from /content/drive/MyDrive/EEG_Project/dataset_2/sub-hc4/ses-hc/eeg/sub-hc4_ses-hc_task-rest_eeg.bdf...\n",
            "BDF file detected\n",
            "Setting channel info structure...\n",
            "Creating raw.info structure...\n",
            "Reading 0 ... 92671  =      0.000 ...   180.998 secs...\n",
            "NOTE: pick_channels() is a legacy function. New code should use inst.pick(...).\n",
            "Extracting EDF parameters from /content/drive/MyDrive/EEG_Project/dataset_2/sub-hc8/ses-hc/eeg/sub-hc8_ses-hc_task-rest_eeg.bdf...\n",
            "BDF file detected\n",
            "Setting channel info structure...\n",
            "Creating raw.info structure...\n",
            "Reading 0 ... 97791  =      0.000 ...   190.998 secs...\n",
            "NOTE: pick_channels() is a legacy function. New code should use inst.pick(...).\n",
            "Extracting EDF parameters from /content/drive/MyDrive/EEG_Project/dataset_2/sub-hc10/ses-hc/eeg/sub-hc10_ses-hc_task-rest_eeg.bdf...\n",
            "BDF file detected\n",
            "Setting channel info structure...\n",
            "Creating raw.info structure...\n",
            "Reading 0 ... 102911  =      0.000 ...   200.998 secs...\n",
            "NOTE: pick_channels() is a legacy function. New code should use inst.pick(...).\n",
            "Extracting EDF parameters from /content/drive/MyDrive/EEG_Project/dataset_2/sub-hc18/ses-hc/eeg/sub-hc18_ses-hc_task-rest_eeg.bdf...\n",
            "BDF file detected\n",
            "Setting channel info structure...\n",
            "Creating raw.info structure...\n",
            "Reading 0 ... 95231  =      0.000 ...   185.998 secs...\n",
            "NOTE: pick_channels() is a legacy function. New code should use inst.pick(...).\n",
            "Extracting EDF parameters from /content/drive/MyDrive/EEG_Project/dataset_2/sub-hc24/ses-hc/eeg/sub-hc24_ses-hc_task-rest_eeg.bdf...\n",
            "BDF file detected\n",
            "Setting channel info structure...\n",
            "Creating raw.info structure...\n",
            "Reading 0 ... 98303  =      0.000 ...   191.998 secs...\n",
            "NOTE: pick_channels() is a legacy function. New code should use inst.pick(...).\n",
            "Extracting EDF parameters from /content/drive/MyDrive/EEG_Project/dataset_2/sub-hc20/ses-hc/eeg/sub-hc20_ses-hc_task-rest_eeg.bdf...\n",
            "BDF file detected\n",
            "Setting channel info structure...\n",
            "Creating raw.info structure...\n",
            "Reading 0 ... 94207  =      0.000 ...   183.998 secs...\n",
            "NOTE: pick_channels() is a legacy function. New code should use inst.pick(...).\n",
            "Extracting EDF parameters from /content/drive/MyDrive/EEG_Project/dataset_2/sub-hc25/ses-hc/eeg/sub-hc25_ses-hc_task-rest_eeg.bdf...\n",
            "BDF file detected\n",
            "Setting channel info structure...\n",
            "Creating raw.info structure...\n",
            "Reading 0 ... 103423  =      0.000 ...   201.998 secs...\n",
            "NOTE: pick_channels() is a legacy function. New code should use inst.pick(...).\n",
            "Extracting EDF parameters from /content/drive/MyDrive/EEG_Project/dataset_2/sub-hc29/ses-hc/eeg/sub-hc29_ses-hc_task-rest_eeg.bdf...\n",
            "BDF file detected\n",
            "Setting channel info structure...\n",
            "Creating raw.info structure...\n",
            "Reading 0 ... 101887  =      0.000 ...   198.998 secs...\n",
            "NOTE: pick_channels() is a legacy function. New code should use inst.pick(...).\n",
            "Extracting EDF parameters from /content/drive/MyDrive/EEG_Project/dataset_2/sub-hc30/ses-hc/eeg/sub-hc30_ses-hc_task-rest_eeg.bdf...\n",
            "BDF file detected\n",
            "Setting channel info structure...\n",
            "Creating raw.info structure...\n",
            "Reading 0 ... 96767  =      0.000 ...   188.998 secs...\n",
            "NOTE: pick_channels() is a legacy function. New code should use inst.pick(...).\n",
            "Extracting EDF parameters from /content/drive/MyDrive/EEG_Project/dataset_2/sub-hc31/ses-hc/eeg/sub-hc31_ses-hc_task-rest_eeg.bdf...\n",
            "BDF file detected\n",
            "Setting channel info structure...\n",
            "Creating raw.info structure...\n",
            "Reading 0 ... 95743  =      0.000 ...   186.998 secs...\n",
            "NOTE: pick_channels() is a legacy function. New code should use inst.pick(...).\n",
            "Extracting EDF parameters from /content/drive/MyDrive/EEG_Project/dataset_2/sub-hc32/ses-hc/eeg/sub-hc32_ses-hc_task-rest_eeg.bdf...\n",
            "BDF file detected\n",
            "Setting channel info structure...\n",
            "Creating raw.info structure...\n",
            "Reading 0 ... 100351  =      0.000 ...   195.998 secs...\n",
            "NOTE: pick_channels() is a legacy function. New code should use inst.pick(...).\n",
            "Extracting EDF parameters from /content/drive/MyDrive/EEG_Project/dataset_2/sub-hc33/ses-hc/eeg/sub-hc33_ses-hc_task-rest_eeg.bdf...\n",
            "BDF file detected\n",
            "Setting channel info structure...\n",
            "Creating raw.info structure...\n",
            "Reading 0 ... 97279  =      0.000 ...   189.998 secs...\n",
            "NOTE: pick_channels() is a legacy function. New code should use inst.pick(...).\n",
            "Extracting EDF parameters from /content/drive/MyDrive/EEG_Project/dataset_2/sub-pd3/ses-on/eeg/sub-pd3_ses-on_task-rest_eeg.bdf...\n",
            "BDF file detected\n",
            "Setting channel info structure...\n",
            "Creating raw.info structure...\n",
            "Reading 0 ... 109055  =      0.000 ...   212.998 secs...\n",
            "NOTE: pick_channels() is a legacy function. New code should use inst.pick(...).\n",
            "Extracting EDF parameters from /content/drive/MyDrive/EEG_Project/dataset_2/sub-pd3/ses-off/eeg/sub-pd3_ses-off_task-rest_eeg.bdf...\n",
            "BDF file detected\n",
            "Setting channel info structure...\n",
            "Creating raw.info structure...\n",
            "Reading 0 ... 102399  =      0.000 ...   199.998 secs...\n",
            "NOTE: pick_channels() is a legacy function. New code should use inst.pick(...).\n",
            "Extracting EDF parameters from /content/drive/MyDrive/EEG_Project/dataset_2/sub-pd5/ses-on/eeg/sub-pd5_ses-on_task-rest_eeg.bdf...\n",
            "BDF file detected\n",
            "Setting channel info structure...\n",
            "Creating raw.info structure...\n",
            "Reading 0 ... 105471  =      0.000 ...   205.998 secs...\n",
            "NOTE: pick_channels() is a legacy function. New code should use inst.pick(...).\n",
            "Extracting EDF parameters from /content/drive/MyDrive/EEG_Project/dataset_2/sub-pd5/ses-off/eeg/sub-pd5_ses-off_task-rest_eeg.bdf...\n",
            "BDF file detected\n",
            "Setting channel info structure...\n",
            "Creating raw.info structure...\n",
            "Reading 0 ... 100863  =      0.000 ...   196.998 secs...\n",
            "NOTE: pick_channels() is a legacy function. New code should use inst.pick(...).\n",
            "Extracting EDF parameters from /content/drive/MyDrive/EEG_Project/dataset_2/sub-pd6/ses-on/eeg/sub-pd6_ses-on_task-rest_eeg.bdf...\n",
            "BDF file detected\n",
            "Setting channel info structure...\n",
            "Creating raw.info structure...\n",
            "Reading 0 ... 147967  =      0.000 ...   288.998 secs...\n",
            "NOTE: pick_channels() is a legacy function. New code should use inst.pick(...).\n",
            "Extracting EDF parameters from /content/drive/MyDrive/EEG_Project/dataset_2/sub-pd6/ses-off/eeg/sub-pd6_ses-off_task-rest_eeg.bdf...\n",
            "BDF file detected\n",
            "Setting channel info structure...\n",
            "Creating raw.info structure...\n",
            "Reading 0 ... 97791  =      0.000 ...   190.998 secs...\n",
            "NOTE: pick_channels() is a legacy function. New code should use inst.pick(...).\n",
            "Extracting EDF parameters from /content/drive/MyDrive/EEG_Project/dataset_2/sub-pd9/ses-on/eeg/sub-pd9_ses-on_task-rest_eeg.bdf...\n",
            "BDF file detected\n",
            "Setting channel info structure...\n",
            "Creating raw.info structure...\n",
            "Reading 0 ... 95743  =      0.000 ...   186.998 secs...\n",
            "NOTE: pick_channels() is a legacy function. New code should use inst.pick(...).\n",
            "Extracting EDF parameters from /content/drive/MyDrive/EEG_Project/dataset_2/sub-pd9/ses-off/eeg/sub-pd9_ses-off_task-rest_eeg.bdf...\n",
            "BDF file detected\n",
            "Setting channel info structure...\n",
            "Creating raw.info structure...\n",
            "Reading 0 ... 97791  =      0.000 ...   190.998 secs...\n",
            "NOTE: pick_channels() is a legacy function. New code should use inst.pick(...).\n",
            "Extracting EDF parameters from /content/drive/MyDrive/EEG_Project/dataset_2/sub-pd11/ses-on/eeg/sub-pd11_ses-on_task-rest_eeg.bdf...\n",
            "BDF file detected\n",
            "Setting channel info structure...\n",
            "Creating raw.info structure...\n",
            "Reading 0 ... 95743  =      0.000 ...   186.998 secs...\n",
            "NOTE: pick_channels() is a legacy function. New code should use inst.pick(...).\n",
            "Extracting EDF parameters from /content/drive/MyDrive/EEG_Project/dataset_2/sub-pd11/ses-off/eeg/sub-pd11_ses-off_task-rest_eeg.bdf...\n",
            "BDF file detected\n",
            "Setting channel info structure...\n",
            "Creating raw.info structure...\n",
            "Reading 0 ... 95231  =      0.000 ...   185.998 secs...\n",
            "NOTE: pick_channels() is a legacy function. New code should use inst.pick(...).\n",
            "Extracting EDF parameters from /content/drive/MyDrive/EEG_Project/dataset_2/sub-pd12/ses-off/eeg/sub-pd12_ses-off_task-rest_eeg.bdf...\n",
            "BDF file detected\n",
            "Setting channel info structure...\n",
            "Creating raw.info structure...\n",
            "Reading 0 ... 105983  =      0.000 ...   206.998 secs...\n",
            "NOTE: pick_channels() is a legacy function. New code should use inst.pick(...).\n",
            "Extracting EDF parameters from /content/drive/MyDrive/EEG_Project/dataset_2/sub-pd12/ses-on/eeg/sub-pd12_ses-on_task-rest_eeg.bdf...\n",
            "BDF file detected\n",
            "Setting channel info structure...\n",
            "Creating raw.info structure...\n",
            "Reading 0 ... 98303  =      0.000 ...   191.998 secs...\n",
            "NOTE: pick_channels() is a legacy function. New code should use inst.pick(...).\n",
            "Extracting EDF parameters from /content/drive/MyDrive/EEG_Project/dataset_2/sub-pd13/ses-on/eeg/sub-pd13_ses-on_task-rest_eeg.bdf...\n",
            "BDF file detected\n",
            "Setting channel info structure...\n",
            "Creating raw.info structure...\n",
            "Reading 0 ... 95743  =      0.000 ...   186.998 secs...\n",
            "NOTE: pick_channels() is a legacy function. New code should use inst.pick(...).\n",
            "Extracting EDF parameters from /content/drive/MyDrive/EEG_Project/dataset_2/sub-pd13/ses-off/eeg/sub-pd13_ses-off_task-rest_eeg.bdf...\n",
            "BDF file detected\n",
            "Setting channel info structure...\n",
            "Creating raw.info structure...\n",
            "Reading 0 ... 95231  =      0.000 ...   185.998 secs...\n",
            "NOTE: pick_channels() is a legacy function. New code should use inst.pick(...).\n",
            "Extracting EDF parameters from /content/drive/MyDrive/EEG_Project/dataset_2/sub-pd14/ses-on/eeg/sub-pd14_ses-on_task-rest_eeg.bdf...\n",
            "BDF file detected\n",
            "Setting channel info structure...\n",
            "Creating raw.info structure...\n",
            "Reading 0 ... 96767  =      0.000 ...   188.998 secs...\n",
            "NOTE: pick_channels() is a legacy function. New code should use inst.pick(...).\n",
            "Extracting EDF parameters from /content/drive/MyDrive/EEG_Project/dataset_2/sub-pd14/ses-off/eeg/sub-pd14_ses-off_task-rest_eeg.bdf...\n",
            "BDF file detected\n",
            "Setting channel info structure...\n",
            "Creating raw.info structure...\n",
            "Reading 0 ... 149503  =      0.000 ...   291.998 secs...\n",
            "NOTE: pick_channels() is a legacy function. New code should use inst.pick(...).\n",
            "Extracting EDF parameters from /content/drive/MyDrive/EEG_Project/dataset_2/sub-pd16/ses-on/eeg/sub-pd16_ses-on_task-rest_eeg.bdf...\n",
            "BDF file detected\n",
            "Setting channel info structure...\n",
            "Creating raw.info structure...\n",
            "Reading 0 ... 95743  =      0.000 ...   186.998 secs...\n",
            "NOTE: pick_channels() is a legacy function. New code should use inst.pick(...).\n",
            "Extracting EDF parameters from /content/drive/MyDrive/EEG_Project/dataset_2/sub-pd16/ses-off/eeg/sub-pd16_ses-off_task-rest_eeg.bdf...\n",
            "BDF file detected\n",
            "Setting channel info structure...\n",
            "Creating raw.info structure...\n",
            "Reading 0 ... 96255  =      0.000 ...   187.998 secs...\n",
            "NOTE: pick_channels() is a legacy function. New code should use inst.pick(...).\n",
            "Extracting EDF parameters from /content/drive/MyDrive/EEG_Project/dataset_2/sub-pd17/ses-on/eeg/sub-pd17_ses-on_task-rest_eeg.bdf...\n",
            "BDF file detected\n",
            "Setting channel info structure...\n",
            "Creating raw.info structure...\n",
            "Reading 0 ... 95231  =      0.000 ...   185.998 secs...\n",
            "NOTE: pick_channels() is a legacy function. New code should use inst.pick(...).\n",
            "Extracting EDF parameters from /content/drive/MyDrive/EEG_Project/dataset_2/sub-pd17/ses-off/eeg/sub-pd17_ses-off_task-rest_eeg.bdf...\n",
            "BDF file detected\n",
            "Setting channel info structure...\n",
            "Creating raw.info structure...\n",
            "Reading 0 ... 96767  =      0.000 ...   188.998 secs...\n",
            "NOTE: pick_channels() is a legacy function. New code should use inst.pick(...).\n",
            "Extracting EDF parameters from /content/drive/MyDrive/EEG_Project/dataset_2/sub-pd22/ses-on/eeg/sub-pd22_ses-on_task-rest_eeg.bdf...\n",
            "BDF file detected\n",
            "Setting channel info structure...\n",
            "Creating raw.info structure...\n",
            "Reading 0 ... 94207  =      0.000 ...   183.998 secs...\n",
            "NOTE: pick_channels() is a legacy function. New code should use inst.pick(...).\n",
            "Extracting EDF parameters from /content/drive/MyDrive/EEG_Project/dataset_2/sub-pd22/ses-off/eeg/sub-pd22_ses-off_task-rest_eeg.bdf...\n",
            "BDF file detected\n",
            "Setting channel info structure...\n",
            "Creating raw.info structure...\n",
            "Reading 0 ... 96255  =      0.000 ...   187.998 secs...\n",
            "NOTE: pick_channels() is a legacy function. New code should use inst.pick(...).\n",
            "Extracting EDF parameters from /content/drive/MyDrive/EEG_Project/dataset_2/sub-pd19/ses-on/eeg/sub-pd19_ses-on_task-rest_eeg.bdf...\n",
            "BDF file detected\n",
            "Setting channel info structure...\n",
            "Creating raw.info structure...\n",
            "Reading 0 ... 96255  =      0.000 ...   187.998 secs...\n",
            "NOTE: pick_channels() is a legacy function. New code should use inst.pick(...).\n",
            "Extracting EDF parameters from /content/drive/MyDrive/EEG_Project/dataset_2/sub-pd19/ses-off/eeg/sub-pd19_ses-off_task-rest_eeg.bdf...\n",
            "BDF file detected\n",
            "Setting channel info structure...\n",
            "Creating raw.info structure...\n",
            "Reading 0 ... 94719  =      0.000 ...   184.998 secs...\n",
            "NOTE: pick_channels() is a legacy function. New code should use inst.pick(...).\n",
            "Extracting EDF parameters from /content/drive/MyDrive/EEG_Project/dataset_2/sub-pd23/ses-on/eeg/sub-pd23_ses-on_task-rest_eeg.bdf...\n",
            "BDF file detected\n",
            "Setting channel info structure...\n",
            "Creating raw.info structure...\n",
            "Reading 0 ... 95231  =      0.000 ...   185.998 secs...\n",
            "NOTE: pick_channels() is a legacy function. New code should use inst.pick(...).\n",
            "Extracting EDF parameters from /content/drive/MyDrive/EEG_Project/dataset_2/sub-pd23/ses-off/eeg/sub-pd23_ses-off_task-rest_eeg.bdf...\n",
            "BDF file detected\n",
            "Setting channel info structure...\n",
            "Creating raw.info structure...\n",
            "Reading 0 ... 104447  =      0.000 ...   203.998 secs...\n",
            "NOTE: pick_channels() is a legacy function. New code should use inst.pick(...).\n",
            "Extracting EDF parameters from /content/drive/MyDrive/EEG_Project/dataset_2/sub-pd26/ses-on/eeg/sub-pd26_ses-on_task-rest_eeg.bdf...\n",
            "BDF file detected\n",
            "Setting channel info structure...\n",
            "Creating raw.info structure...\n",
            "Reading 0 ... 110591  =      0.000 ...   215.998 secs...\n",
            "NOTE: pick_channels() is a legacy function. New code should use inst.pick(...).\n",
            "Extracting EDF parameters from /content/drive/MyDrive/EEG_Project/dataset_2/sub-pd26/ses-off/eeg/sub-pd26_ses-off_task-rest_eeg.bdf...\n",
            "BDF file detected\n",
            "Setting channel info structure...\n",
            "Creating raw.info structure...\n",
            "Reading 0 ... 97791  =      0.000 ...   190.998 secs...\n",
            "NOTE: pick_channels() is a legacy function. New code should use inst.pick(...).\n",
            "Extracting EDF parameters from /content/drive/MyDrive/EEG_Project/dataset_2/sub-pd28/ses-on/eeg/sub-pd28_ses-on_task-rest_eeg.bdf...\n",
            "BDF file detected\n",
            "Setting channel info structure...\n",
            "Creating raw.info structure...\n",
            "Reading 0 ... 102911  =      0.000 ...   200.998 secs...\n",
            "NOTE: pick_channels() is a legacy function. New code should use inst.pick(...).\n",
            "Extracting EDF parameters from /content/drive/MyDrive/EEG_Project/dataset_2/sub-pd28/ses-off/eeg/sub-pd28_ses-off_task-rest_eeg.bdf...\n",
            "BDF file detected\n",
            "Setting channel info structure...\n",
            "Creating raw.info structure...\n",
            "Reading 0 ... 105471  =      0.000 ...   205.998 secs...\n",
            "NOTE: pick_channels() is a legacy function. New code should use inst.pick(...).\n"
          ]
        }
      ],
      "source": [
        "import mne\n",
        "\n",
        "# We will use the order from the .set dataset\n",
        "ordered_common_channels = [ch for ch in channels_set if ch in common_channels]\n",
        "\n",
        "print(\"Final channel order:\", ordered_common_channels)\n",
        "\n",
        "# Function to load and reorder channels\n",
        "def load_and_reorder(filepath, filetype, channel_order):\n",
        "    if filetype == \"set\":\n",
        "        raw = mne.io.read_raw_eeglab(filepath, preload=True)\n",
        "    elif filetype == \"bdf\":\n",
        "        raw = mne.io.read_raw_bdf(filepath, preload=True)\n",
        "    else:\n",
        "        raise ValueError(\"Unsupported file type\")\n",
        "\n",
        "    # Pick only common channels and reorder\n",
        "    raw.pick_channels(channel_order)\n",
        "    raw.reorder_channels(channel_order)\n",
        "\n",
        "    return raw\n",
        "\n",
        "# Load all .set files in same channel order\n",
        "all_set_data = [load_and_reorder(f, \"set\", ordered_common_channels) for f in set_files]\n",
        "\n",
        "# Load all .bdf files in same channel order\n",
        "all_bdf_data = [load_and_reorder(f, \"bdf\", ordered_common_channels) for f in bdf_files]\n"
      ]
    },
    {
      "cell_type": "markdown",
      "id": "b4ff6b49",
      "metadata": {
        "id": "b4ff6b49"
      },
      "source": [
        "## 4. checking if the order is same or not\n"
      ]
    },
    {
      "cell_type": "code",
      "execution_count": null,
      "id": "6525e002",
      "metadata": {
        "id": "6525e002",
        "colab": {
          "base_uri": "https://localhost:8080/"
        },
        "outputId": "75baea47-06e9-4054-9e71-f5f20ce94f48"
      },
      "outputs": [
        {
          "output_type": "stream",
          "name": "stdout",
          "text": [
            "\n",
            "SET file 1 channels:\n",
            "['Fp1', 'Fp2', 'F3', 'F4', 'C3', 'C4', 'P3', 'P4', 'O1', 'O2', 'F7', 'F8', 'Fz', 'Cz', 'Pz']\n",
            "\n",
            "SET file 2 channels:\n",
            "['Fp1', 'Fp2', 'F3', 'F4', 'C3', 'C4', 'P3', 'P4', 'O1', 'O2', 'F7', 'F8', 'Fz', 'Cz', 'Pz']\n",
            "\n",
            "SET file 3 channels:\n",
            "['Fp1', 'Fp2', 'F3', 'F4', 'C3', 'C4', 'P3', 'P4', 'O1', 'O2', 'F7', 'F8', 'Fz', 'Cz', 'Pz']\n",
            "\n",
            "BDF file 1 channels:\n",
            "['Fp1', 'Fp2', 'F3', 'F4', 'C3', 'C4', 'P3', 'P4', 'O1', 'O2', 'F7', 'F8', 'Fz', 'Cz', 'Pz']\n",
            "\n",
            "BDF file 2 channels:\n",
            "['Fp1', 'Fp2', 'F3', 'F4', 'C3', 'C4', 'P3', 'P4', 'O1', 'O2', 'F7', 'F8', 'Fz', 'Cz', 'Pz']\n",
            "\n",
            "BDF file 3 channels:\n",
            "['Fp1', 'Fp2', 'F3', 'F4', 'C3', 'C4', 'P3', 'P4', 'O1', 'O2', 'F7', 'F8', 'Fz', 'Cz', 'Pz']\n",
            "\n",
            "✅ Channel orders match for SET and BDF datasets.\n"
          ]
        }
      ],
      "source": [
        "# Check first 3 files from each dataset to verify channel order\n",
        "for i, raw_obj in enumerate(all_set_data[:3]):\n",
        "    print(f\"\\nSET file {i+1} channels:\")\n",
        "    print(raw_obj.info[\"ch_names\"])\n",
        "\n",
        "for i, raw_obj in enumerate(all_bdf_data[:3]):\n",
        "    print(f\"\\nBDF file {i+1} channels:\")\n",
        "    print(raw_obj.info[\"ch_names\"])\n",
        "\n",
        "# Final check: compare channel order between first SET and first BDF\n",
        "set_order = all_set_data[0].info[\"ch_names\"]\n",
        "bdf_order = all_bdf_data[0].info[\"ch_names\"]\n",
        "\n",
        "if set_order == bdf_order:\n",
        "    print(\"\\n✅ Channel orders match for SET and BDF datasets.\")\n",
        "else:\n",
        "    print(\"\\n❌ Channel orders do NOT match.\")\n",
        "    print(\"SET order:\", set_order)\n",
        "    print(\"BDF order:\", bdf_order)\n"
      ]
    },
    {
      "cell_type": "markdown",
      "id": "07f675f0",
      "metadata": {
        "id": "07f675f0"
      },
      "source": [
        "##5. checking the sampling freuquency"
      ]
    },
    {
      "cell_type": "markdown",
      "id": "ba4ed057",
      "metadata": {
        "id": "ba4ed057"
      },
      "source": [
        "## 6. Resampling"
      ]
    },
    {
      "cell_type": "code",
      "execution_count": null,
      "id": "0e3a8981",
      "metadata": {
        "id": "0e3a8981",
        "colab": {
          "base_uri": "https://localhost:8080/"
        },
        "outputId": "8705564d-6709-4e07-b13f-6a568f190a1d"
      },
      "outputs": [
        {
          "output_type": "stream",
          "name": "stdout",
          "text": [
            "Resampled .set file 1 to 128 Hz\n",
            "Resampled .set file 2 to 128 Hz\n",
            "Resampled .set file 3 to 128 Hz\n",
            "Resampled .set file 4 to 128 Hz\n",
            "Resampled .set file 5 to 128 Hz\n",
            "Resampled .set file 6 to 128 Hz\n",
            "Resampled .set file 7 to 128 Hz\n",
            "Resampled .set file 8 to 128 Hz\n",
            "Resampled .set file 9 to 128 Hz\n",
            "Resampled .set file 10 to 128 Hz\n",
            "Resampled .set file 11 to 128 Hz\n",
            "Resampled .set file 12 to 128 Hz\n",
            "Resampled .set file 13 to 128 Hz\n",
            "Resampled .set file 14 to 128 Hz\n",
            "Resampled .set file 15 to 128 Hz\n",
            "Resampled .set file 16 to 128 Hz\n",
            "Resampled .set file 17 to 128 Hz\n",
            "Resampled .set file 18 to 128 Hz\n",
            "Resampled .set file 19 to 128 Hz\n",
            "Resampled .set file 20 to 128 Hz\n",
            "Resampled .set file 21 to 128 Hz\n",
            "Resampled .set file 22 to 128 Hz\n",
            "Resampled .set file 23 to 128 Hz\n",
            "Resampled .set file 24 to 128 Hz\n",
            "Resampled .set file 25 to 128 Hz\n",
            "Resampled .set file 26 to 128 Hz\n",
            "Resampled .set file 27 to 128 Hz\n",
            "Resampled .set file 28 to 128 Hz\n",
            "Resampled .set file 29 to 128 Hz\n",
            "Resampled .set file 30 to 128 Hz\n",
            "Resampled .set file 31 to 128 Hz\n",
            "Resampled .set file 32 to 128 Hz\n",
            "Resampled .set file 33 to 128 Hz\n",
            "Resampled .set file 34 to 128 Hz\n",
            "Resampled .set file 35 to 128 Hz\n",
            "Resampled .set file 36 to 128 Hz\n",
            "Resampled .set file 37 to 128 Hz\n",
            "Resampled .set file 38 to 128 Hz\n",
            "Resampled .set file 39 to 128 Hz\n",
            "Resampled .set file 40 to 128 Hz\n",
            "Resampled .set file 41 to 128 Hz\n",
            "Resampled .set file 42 to 128 Hz\n",
            "Resampled .set file 43 to 128 Hz\n",
            "Resampled .set file 44 to 128 Hz\n",
            "Resampled .set file 45 to 128 Hz\n",
            "Resampled .set file 46 to 128 Hz\n",
            "Resampled .set file 47 to 128 Hz\n",
            "Resampled .set file 48 to 128 Hz\n",
            "Resampled .set file 49 to 128 Hz\n",
            "Resampled .set file 50 to 128 Hz\n",
            "Resampled .set file 51 to 128 Hz\n",
            "Resampled .set file 52 to 128 Hz\n",
            "Resampled .set file 53 to 128 Hz\n",
            "Resampled .set file 54 to 128 Hz\n",
            "Resampled .set file 55 to 128 Hz\n",
            "Resampled .set file 56 to 128 Hz\n",
            "Resampled .set file 57 to 128 Hz\n",
            "Resampled .set file 58 to 128 Hz\n",
            "Resampled .set file 59 to 128 Hz\n",
            "Resampled .set file 60 to 128 Hz\n",
            "Resampled .set file 61 to 128 Hz\n",
            "Resampled .set file 62 to 128 Hz\n",
            "Resampled .set file 63 to 128 Hz\n",
            "Resampled .set file 64 to 128 Hz\n",
            "Resampled .set file 65 to 128 Hz\n",
            "Resampled .set file 66 to 128 Hz\n",
            "Resampled .set file 67 to 128 Hz\n",
            "Resampled .set file 68 to 128 Hz\n",
            "Resampled .set file 69 to 128 Hz\n",
            "Resampled .set file 70 to 128 Hz\n",
            "Resampled .set file 71 to 128 Hz\n",
            "Resampled .set file 72 to 128 Hz\n",
            "Resampled .set file 73 to 128 Hz\n",
            "Resampled .set file 74 to 128 Hz\n",
            "Resampled .set file 75 to 128 Hz\n",
            "Resampled .set file 76 to 128 Hz\n",
            "Resampled .set file 77 to 128 Hz\n",
            "Resampled .set file 78 to 128 Hz\n",
            "Resampled .set file 79 to 128 Hz\n",
            "Resampled .set file 80 to 128 Hz\n",
            "Resampled .set file 81 to 128 Hz\n",
            "Resampled .set file 82 to 128 Hz\n",
            "Resampled .set file 83 to 128 Hz\n",
            "Resampled .set file 84 to 128 Hz\n",
            "Resampled .set file 85 to 128 Hz\n",
            "Resampled .set file 86 to 128 Hz\n",
            "Resampled .set file 87 to 128 Hz\n",
            "Resampled .set file 88 to 128 Hz\n",
            "Resampled .bdf file 1 to 128 Hz\n",
            "Resampled .bdf file 2 to 128 Hz\n",
            "Resampled .bdf file 3 to 128 Hz\n",
            "Resampled .bdf file 4 to 128 Hz\n",
            "Resampled .bdf file 5 to 128 Hz\n",
            "Resampled .bdf file 6 to 128 Hz\n",
            "Resampled .bdf file 7 to 128 Hz\n",
            "Resampled .bdf file 8 to 128 Hz\n",
            "Resampled .bdf file 9 to 128 Hz\n",
            "Resampled .bdf file 10 to 128 Hz\n",
            "Resampled .bdf file 11 to 128 Hz\n",
            "Resampled .bdf file 12 to 128 Hz\n",
            "Resampled .bdf file 13 to 128 Hz\n",
            "Resampled .bdf file 14 to 128 Hz\n",
            "Resampled .bdf file 15 to 128 Hz\n",
            "Resampled .bdf file 16 to 128 Hz\n",
            "Resampled .bdf file 17 to 128 Hz\n",
            "Resampled .bdf file 18 to 128 Hz\n",
            "Resampled .bdf file 19 to 128 Hz\n",
            "Resampled .bdf file 20 to 128 Hz\n",
            "Resampled .bdf file 21 to 128 Hz\n",
            "Resampled .bdf file 22 to 128 Hz\n",
            "Resampled .bdf file 23 to 128 Hz\n",
            "Resampled .bdf file 24 to 128 Hz\n",
            "Resampled .bdf file 25 to 128 Hz\n",
            "Resampled .bdf file 26 to 128 Hz\n",
            "Resampled .bdf file 27 to 128 Hz\n",
            "Resampled .bdf file 28 to 128 Hz\n",
            "Resampled .bdf file 29 to 128 Hz\n",
            "Resampled .bdf file 30 to 128 Hz\n",
            "Resampled .bdf file 31 to 128 Hz\n",
            "Resampled .bdf file 32 to 128 Hz\n",
            "Resampled .bdf file 33 to 128 Hz\n",
            "Resampled .bdf file 34 to 128 Hz\n",
            "Resampled .bdf file 35 to 128 Hz\n",
            "Resampled .bdf file 36 to 128 Hz\n",
            "Resampled .bdf file 37 to 128 Hz\n",
            "Resampled .bdf file 38 to 128 Hz\n",
            "Resampled .bdf file 39 to 128 Hz\n",
            "Resampled .bdf file 40 to 128 Hz\n",
            "Resampled .bdf file 41 to 128 Hz\n",
            "Resampled .bdf file 42 to 128 Hz\n",
            "Resampled .bdf file 43 to 128 Hz\n",
            "Resampled .bdf file 44 to 128 Hz\n",
            "Resampled .bdf file 45 to 128 Hz\n",
            "Resampled .bdf file 46 to 128 Hz\n"
          ]
        }
      ],
      "source": [
        "target_sfreq = 128  # Hz\n",
        "\n",
        "# Resample .set files\n",
        "for i, raw in enumerate(all_set_data):\n",
        "    if raw.info['sfreq'] != target_sfreq:\n",
        "        raw.resample(target_sfreq)\n",
        "        print(f\"Resampled .set file {i+1} to {target_sfreq} Hz\")\n",
        "\n",
        "# Resample .bdf files\n",
        "for i, raw in enumerate(all_bdf_data):\n",
        "    if raw.info['sfreq'] != target_sfreq:\n",
        "        raw.resample(target_sfreq)\n",
        "        print(f\"Resampled .bdf file {i+1} to {target_sfreq} Hz\")\n"
      ]
    },
    {
      "cell_type": "markdown",
      "id": "a18de62e",
      "metadata": {
        "id": "a18de62e"
      },
      "source": [
        "##6. normalization\n"
      ]
    },
    {
      "cell_type": "code",
      "execution_count": null,
      "id": "115942ef",
      "metadata": {
        "id": "115942ef",
        "colab": {
          "base_uri": "https://localhost:8080/"
        },
        "outputId": "c98965e2-dd53-45d1-d220-0b318bf9387c"
      },
      "outputs": [
        {
          "output_type": "stream",
          "name": "stdout",
          "text": [
            "Minimum common length (time points): 23168\n",
            "✅ Combined dataset shape: (134, 15, 23168)\n",
            "✅ Normalized dataset shape: (134, 15, 23168)\n",
            "💾 Saved raw as 'X_combined.npy' and normalized as 'X_combined_normalized.npy'\n",
            "Unique sampling frequencies: {128.0}\n",
            "✅ Channel orders match.\n"
          ]
        }
      ],
      "source": [
        "import numpy as np\n",
        "from sklearn.preprocessing import StandardScaler\n",
        "\n",
        "# ===== 1️⃣ Shortest recording length =====\n",
        "min_times = min([raw.n_times for raw in all_set_data + all_bdf_data])\n",
        "print(f\"Minimum common length (time points): {min_times}\")\n",
        "\n",
        "# ===== 2️⃣ Combine datasets =====\n",
        "X_all = []\n",
        "\n",
        "# Append all .set files\n",
        "for raw in all_set_data:\n",
        "    X_all.append(raw.get_data()[:, :min_times])\n",
        "\n",
        "# Append all .bdf files\n",
        "for raw in all_bdf_data:\n",
        "    X_all.append(raw.get_data()[:, :min_times])\n",
        "\n",
        "# Convert to NumPy array (n_samples, n_channels, n_times)\n",
        "X_all = np.array(X_all)\n",
        "print(f\"✅ Combined dataset shape: {X_all.shape}\")\n",
        "\n",
        "# ===== 3️⃣ Normalize using StandardScaler =====\n",
        "# Reshape to (n_samples * n_times, n_channels) for scaler\n",
        "n_samples, n_channels, n_times = X_all.shape\n",
        "X_reshaped = X_all.transpose(0, 2, 1).reshape(-1, n_channels)\n",
        "\n",
        "scaler = StandardScaler()\n",
        "X_scaled = scaler.fit_transform(X_reshaped)\n",
        "\n",
        "# Reshape back to (n_samples, n_channels, n_times)\n",
        "X_scaled = X_scaled.reshape(n_samples, n_times, n_channels).transpose(0, 2, 1)\n",
        "\n",
        "print(f\"✅ Normalized dataset shape: {X_scaled.shape}\")\n",
        "\n",
        "# ===== 4️⃣ Save datasets =====\n",
        "np.save(\"X_combined.npy\", X_all)  # raw\n",
        "np.save(\"X_combined_normalized.npy\", X_scaled)  # normalized\n",
        "\n",
        "# Also save to Google Drive\n",
        "np.save('/content/drive/MyDrive/X_combined.npy', X_all)\n",
        "np.save('/content/drive/MyDrive/X_combined_normalized.npy', X_scaled)\n",
        "\n",
        "print(\"💾 Saved raw as 'X_combined.npy' and normalized as 'X_combined_normalized.npy'\")\n",
        "\n",
        "# ===== 5️⃣ Verify consistency =====\n",
        "print(\"Unique sampling frequencies:\", set([raw.info[\"sfreq\"] for raw in all_set_data + all_bdf_data]))\n",
        "if all(raw.info[\"ch_names\"] == all_set_data[0].info[\"ch_names\"] for raw in all_set_data + all_bdf_data):\n",
        "    print(\"✅ Channel orders match.\")\n",
        "else:\n",
        "    print(\"❌ Channel orders differ!\")\n"
      ]
    },
    {
      "cell_type": "markdown",
      "id": "379e1646",
      "metadata": {
        "id": "379e1646"
      },
      "source": []
    },
    {
      "cell_type": "code",
      "execution_count": null,
      "id": "dfc56179",
      "metadata": {
        "id": "dfc56179",
        "colab": {
          "base_uri": "https://localhost:8080/"
        },
        "outputId": "4f6c78b4-e5ce-485c-88b4-342cae950a55"
      },
      "outputs": [
        {
          "output_type": "stream",
          "name": "stdout",
          "text": [
            "(134, 15, 23168)\n",
            "float64\n"
          ]
        }
      ],
      "source": [
        "import numpy as np\n",
        "\n",
        "# Load the .npy file\n",
        "data = np.load('/content/drive/MyDrive/X_combined_normalized.npy')\n",
        "\n",
        "# Now you can inspect the 'data' variable\n",
        "# For example, to see its shape:\n",
        "print(data.shape)\n",
        "\n",
        "# To see its data type:\n",
        "print(data.dtype)"
      ]
    },
    {
      "cell_type": "markdown",
      "id": "24c0e743",
      "metadata": {
        "id": "24c0e743"
      },
      "source": [
        "## 9. Save Metrics & Plots"
      ]
    },
    {
      "cell_type": "code",
      "execution_count": null,
      "id": "eab5e444",
      "metadata": {
        "id": "eab5e444",
        "colab": {
          "base_uri": "https://localhost:8080/"
        },
        "outputId": "6fa7dd12-97d4-4e1e-f3b5-826703326321"
      },
      "outputs": [
        {
          "output_type": "stream",
          "name": "stdout",
          "text": [
            "Sample 1 shape: (15, 46336)\n",
            "Sample 2 shape: (15, 46336)\n",
            "Sample 3 shape: (15, 46336)\n",
            "Sample 4 shape: (15, 46336)\n",
            "Sample 5 shape: (15, 46336)\n",
            "Sample 6 shape: (15, 46336)\n",
            "Sample 7 shape: (15, 46336)\n",
            "Sample 8 shape: (15, 46336)\n",
            "Sample 9 shape: (15, 46336)\n",
            "Sample 10 shape: (15, 46336)\n",
            "Sample 11 shape: (15, 46336)\n",
            "Sample 12 shape: (15, 46336)\n",
            "Sample 13 shape: (15, 46336)\n",
            "Sample 14 shape: (15, 46336)\n",
            "Sample 15 shape: (15, 46336)\n",
            "Sample 16 shape: (15, 46336)\n",
            "Sample 17 shape: (15, 46336)\n",
            "Sample 18 shape: (15, 46336)\n",
            "Sample 19 shape: (15, 46336)\n",
            "Sample 20 shape: (15, 46336)\n",
            "Sample 21 shape: (15, 46336)\n",
            "Sample 22 shape: (15, 46336)\n",
            "Sample 23 shape: (15, 46336)\n",
            "Sample 24 shape: (15, 46336)\n",
            "Sample 25 shape: (15, 46336)\n",
            "Sample 26 shape: (15, 46336)\n",
            "Sample 27 shape: (15, 46336)\n",
            "Sample 28 shape: (15, 46336)\n",
            "Sample 29 shape: (15, 46336)\n",
            "Sample 30 shape: (15, 46336)\n",
            "Sample 31 shape: (15, 46336)\n",
            "Sample 32 shape: (15, 46336)\n",
            "Sample 33 shape: (15, 46336)\n",
            "Sample 34 shape: (15, 46336)\n",
            "Sample 35 shape: (15, 46336)\n",
            "Sample 36 shape: (15, 46336)\n",
            "Sample 37 shape: (15, 46336)\n",
            "Sample 38 shape: (15, 46336)\n",
            "Sample 39 shape: (15, 46336)\n",
            "Sample 40 shape: (15, 46336)\n",
            "Sample 41 shape: (15, 46336)\n",
            "Sample 42 shape: (15, 46336)\n",
            "Sample 43 shape: (15, 46336)\n",
            "Sample 44 shape: (15, 46336)\n",
            "Sample 45 shape: (15, 46336)\n",
            "Sample 46 shape: (15, 46336)\n",
            "Sample 47 shape: (15, 46336)\n",
            "Sample 48 shape: (15, 46336)\n",
            "Sample 49 shape: (15, 46336)\n",
            "Sample 50 shape: (15, 46336)\n",
            "Sample 51 shape: (15, 46336)\n",
            "Sample 52 shape: (15, 46336)\n",
            "Sample 53 shape: (15, 46336)\n",
            "Sample 54 shape: (15, 46336)\n",
            "Sample 55 shape: (15, 46336)\n",
            "Sample 56 shape: (15, 46336)\n",
            "Sample 57 shape: (15, 46336)\n",
            "Sample 58 shape: (15, 46336)\n",
            "Sample 59 shape: (15, 46336)\n",
            "Sample 60 shape: (15, 46336)\n",
            "Sample 61 shape: (15, 46336)\n",
            "Sample 62 shape: (15, 46336)\n",
            "Sample 63 shape: (15, 46336)\n",
            "Sample 64 shape: (15, 46336)\n",
            "Sample 65 shape: (15, 46336)\n",
            "Sample 66 shape: (15, 46336)\n",
            "Sample 67 shape: (15, 46336)\n",
            "Sample 68 shape: (15, 46336)\n",
            "Sample 69 shape: (15, 46336)\n",
            "Sample 70 shape: (15, 46336)\n",
            "Sample 71 shape: (15, 46336)\n",
            "Sample 72 shape: (15, 46336)\n",
            "Sample 73 shape: (15, 46336)\n",
            "Sample 74 shape: (15, 46336)\n",
            "Sample 75 shape: (15, 46336)\n",
            "Sample 76 shape: (15, 46336)\n",
            "Sample 77 shape: (15, 46336)\n",
            "Sample 78 shape: (15, 46336)\n",
            "Sample 79 shape: (15, 46336)\n",
            "Sample 80 shape: (15, 46336)\n",
            "Sample 81 shape: (15, 46336)\n",
            "Sample 82 shape: (15, 46336)\n",
            "Sample 83 shape: (15, 46336)\n",
            "Sample 84 shape: (15, 46336)\n",
            "Sample 85 shape: (15, 46336)\n",
            "Sample 86 shape: (15, 46336)\n",
            "Sample 87 shape: (15, 46336)\n",
            "Sample 88 shape: (15, 46336)\n",
            "Sample 89 shape: (15, 46336)\n",
            "Sample 90 shape: (15, 46336)\n",
            "Sample 91 shape: (15, 46336)\n",
            "Sample 92 shape: (15, 46336)\n",
            "Sample 93 shape: (15, 46336)\n",
            "Sample 94 shape: (15, 46336)\n",
            "Sample 95 shape: (15, 46336)\n",
            "Sample 96 shape: (15, 46336)\n",
            "Sample 97 shape: (15, 46336)\n",
            "Sample 98 shape: (15, 46336)\n",
            "Sample 99 shape: (15, 46336)\n",
            "Sample 100 shape: (15, 46336)\n",
            "Sample 101 shape: (15, 46336)\n",
            "Sample 102 shape: (15, 46336)\n",
            "Sample 103 shape: (15, 46336)\n",
            "Sample 104 shape: (15, 46336)\n",
            "Sample 105 shape: (15, 46336)\n",
            "Sample 106 shape: (15, 46336)\n",
            "Sample 107 shape: (15, 46336)\n",
            "Sample 108 shape: (15, 46336)\n",
            "Sample 109 shape: (15, 46336)\n",
            "Sample 110 shape: (15, 46336)\n",
            "Sample 111 shape: (15, 46336)\n",
            "Sample 112 shape: (15, 46336)\n",
            "Sample 113 shape: (15, 46336)\n",
            "Sample 114 shape: (15, 46336)\n",
            "Sample 115 shape: (15, 46336)\n",
            "Sample 116 shape: (15, 46336)\n",
            "Sample 117 shape: (15, 46336)\n",
            "Sample 118 shape: (15, 46336)\n",
            "Sample 119 shape: (15, 46336)\n",
            "Sample 120 shape: (15, 46336)\n",
            "Sample 121 shape: (15, 46336)\n",
            "Sample 122 shape: (15, 46336)\n",
            "Sample 123 shape: (15, 46336)\n",
            "Sample 124 shape: (15, 46336)\n",
            "Sample 125 shape: (15, 46336)\n",
            "Sample 126 shape: (15, 46336)\n",
            "Sample 127 shape: (15, 46336)\n",
            "Sample 128 shape: (15, 46336)\n",
            "Sample 129 shape: (15, 46336)\n",
            "Sample 130 shape: (15, 46336)\n",
            "Sample 131 shape: (15, 46336)\n",
            "Sample 132 shape: (15, 46336)\n",
            "Sample 133 shape: (15, 46336)\n",
            "Sample 134 shape: (15, 46336)\n"
          ]
        }
      ],
      "source": [
        "for i, sample in enumerate(X_all):\n",
        "    print(f\"Sample {i+1} shape: {sample.shape}\")\n"
      ]
    },
    {
      "cell_type": "code",
      "source": [
        "import numpy as np\n",
        "import pandas as pd\n",
        "from pathlib import Path\n",
        "\n",
        "\n",
        "df_set = pd.read_csv(\"/content/drive/MyDrive/EEG_Project/participants_set.tsv\", sep=\"\\t\")\n",
        "df_bdf = pd.read_csv(\"/content/drive/MyDrive/EEG_Project/participants_bdf.tsv\", sep=\"\\t\")\n",
        "\n",
        "group_map_set = {'A': 1, 'F': 1, 'C': 0}\n",
        "df_set[\"label\"] = df_set[\"Group\"].map(group_map_set)\n",
        "\n",
        "\n",
        "df_bdf[\"label\"] = df_bdf[\"participant_id\"].apply(lambda x: 0 if \"hc\" in x.lower() else 1)\n",
        "\n",
        "print(\"=== SET Metadata ===\")\n",
        "print(df_set.head())\n",
        "print(\"=== BDF Metadata ===\")\n",
        "print(df_bdf.head())\n",
        "\n",
        "\n",
        "ids_set = [Path(raw.filenames[0]).parts[-3] for raw in all_set_data]\n",
        "ids_bdf = [Path(raw.filenames[0]).parts[-4] for raw in all_bdf_data]\n",
        "\n",
        "missing_set = [sid for sid in ids_set if sid not in df_set[\"participant_id\"].values]\n",
        "missing_bdf = [sid for sid in ids_bdf if sid not in df_bdf[\"participant_id\"].values]\n",
        "print(\"Missing from SET metadata:\", missing_set)\n",
        "print(\"Missing from BDF metadata:\", missing_bdf)\n",
        "\n",
        "lengths = [raw.n_times for raw in all_set_data] + [raw.n_times for raw in all_bdf_data]\n",
        "min_length = min(lengths)\n",
        "print(\"Minimum common length (time points):\", min_length)\n",
        "\n",
        "X_scaled = []\n",
        "y_all = []\n",
        "id_all = []\n",
        "\n",
        "for raw in all_set_data:\n",
        "    sid = Path(raw.filenames[0]).parts[-3]\n",
        "    label = df_set.loc[df_set[\"participant_id\"] == sid, \"label\"].values[0]\n",
        "    data = raw.get_data()[:, :min_length]\n",
        "    X_scaled.append(data)\n",
        "    y_all.append(label)\n",
        "    id_all.append(sid)\n",
        "\n",
        "for raw in all_bdf_data:\n",
        "    sid = Path(raw.filenames[0]).parts[-4]\n",
        "    label = df_bdf.loc[df_bdf[\"participant_id\"] == sid, \"label\"].values[0]\n",
        "    data = raw.get_data()[:, :min_length]\n",
        "    X_scaled.append(data)\n",
        "    y_all.append(label)\n",
        "    id_all.append(sid)\n",
        "\n",
        "\n",
        "X_scaled = np.stack(X_scaled)\n",
        "y_all = np.array(y_all)\n",
        "id_all = np.array(id_all)\n",
        "\n",
        "print(\"✅ Final combined dataset shape:\", X_all.shape)\n",
        "print(\"✅ Labels shape:\", y_all.shape)\n",
        "print(\"Class distribution:\\n\", pd.Series(y_all).value_counts())\n",
        "\n",
        "\n",
        "np.save(\"X_all.npy\", X_scaled)\n",
        "np.save(\"y_all.npy\", y_all)\n",
        "np.save('/content/drive/MyDrive/y_all', y_all)\n",
        "pd.DataFrame({\"ID\": id_all, \"label\": y_all}).to_csv(\"id_labels.csv\", index=False)\n",
        "print(\"💾 Saved X_all.npy, y_all.npy, and id_labels.csv\")\n"
      ],
      "metadata": {
        "colab": {
          "base_uri": "https://localhost:8080/"
        },
        "id": "owD2qzjsKPmx",
        "outputId": "54ebb537-2a11-4328-a73c-2e88ea6ac349"
      },
      "id": "owD2qzjsKPmx",
      "execution_count": null,
      "outputs": [
        {
          "output_type": "stream",
          "name": "stdout",
          "text": [
            "=== SET Metadata ===\n",
            "  participant_id Gender  Age Group  MMSE  label\n",
            "0        sub-001      F   57     A    16      1\n",
            "1        sub-002      F   78     A    22      1\n",
            "2        sub-003      M   70     A    14      1\n",
            "3        sub-004      F   67     A    20      1\n",
            "4        sub-005      M   70     A    22      1\n",
            "=== BDF Metadata ===\n",
            "  participant_id  age gender hand  MMSE  NAART  disease_duration  \\\n",
            "0        sub-hc1   54      f    r    30     48               NaN   \n",
            "1        sub-hc2   50      f    r    30     55               NaN   \n",
            "2        sub-pd3   52      f    r    29     44               9.0   \n",
            "3        sub-hc4   50      f    r    30     52               NaN   \n",
            "4        sub-pd5   67      f    r    29     48               2.0   \n",
            "\n",
            "                     rl_deficits notes  label  \n",
            "0                            NaN   NaN      0  \n",
            "1                            NaN   NaN      0  \n",
            "2                              R   NaN      1  \n",
            "3                            NaN   NaN      0  \n",
            "4  No clear side, perhaps more L   NaN      1  \n",
            "Missing from SET metadata: []\n",
            "Missing from BDF metadata: []\n",
            "Minimum common length (time points): 23168\n",
            "✅ Final combined dataset shape: (134, 15, 23168)\n",
            "✅ Labels shape: (134,)\n",
            "Class distribution:\n",
            " 1    89\n",
            "0    45\n",
            "Name: count, dtype: int64\n",
            "💾 Saved X_all.npy, y_all.npy, and id_labels.csv\n"
          ]
        }
      ]
    },
    {
      "cell_type": "markdown",
      "source": [],
      "metadata": {
        "id": "fFmINOHgw1z5"
      },
      "id": "fFmINOHgw1z5"
    },
    {
      "cell_type": "code",
      "source": [
        "import pandas as pd\n",
        "\n",
        "\n",
        "df_overview = pd.DataFrame({\n",
        "    \"ID\": id_all,\n",
        "    \"Label\": y_all\n",
        "})\n",
        "\n",
        "\n",
        "label_map = {0: \"Healthy\", 1: \"Alzheimer/Dementia/PD\"}\n",
        "df_overview[\"Label_Name\"] = df_overview[\"Label\"].map(label_map)\n",
        "\n",
        "\n",
        "print(df_overview)\n",
        "\n",
        "\n",
        "df_overview.to_csv(\"/content/drive/MyDrive/dataset_overview.csv\", index=False)\n",
        "print(\"💾 Saved to /content/drive/MyDrive/dataset_overview.csv\")\n",
        "\n",
        "print(\"\\nClass distribution:\")\n",
        "print(df_overview[\"Label_Name\"].value_counts())\n"
      ],
      "metadata": {
        "colab": {
          "base_uri": "https://localhost:8080/"
        },
        "id": "ep4gdVCWDIYy",
        "outputId": "80ba6c0b-8174-42e1-9725-fdc4542d8ffd"
      },
      "id": "ep4gdVCWDIYy",
      "execution_count": null,
      "outputs": [
        {
          "output_type": "stream",
          "name": "stdout",
          "text": [
            "           ID  Label             Label_Name\n",
            "0     sub-005      1  Alzheimer/Dementia/PD\n",
            "1     sub-003      1  Alzheimer/Dementia/PD\n",
            "2     sub-001      1  Alzheimer/Dementia/PD\n",
            "3     sub-006      1  Alzheimer/Dementia/PD\n",
            "4     sub-004      1  Alzheimer/Dementia/PD\n",
            "..        ...    ...                    ...\n",
            "129  sub-pd23      1  Alzheimer/Dementia/PD\n",
            "130  sub-pd26      1  Alzheimer/Dementia/PD\n",
            "131  sub-pd26      1  Alzheimer/Dementia/PD\n",
            "132  sub-pd28      1  Alzheimer/Dementia/PD\n",
            "133  sub-pd28      1  Alzheimer/Dementia/PD\n",
            "\n",
            "[134 rows x 3 columns]\n",
            "💾 Saved to /content/drive/MyDrive/dataset_overview.csv\n",
            "\n",
            "Class distribution:\n",
            "Label_Name\n",
            "Alzheimer/Dementia/PD    89\n",
            "Healthy                  45\n",
            "Name: count, dtype: int64\n"
          ]
        }
      ]
    },
    {
      "cell_type": "code",
      "source": [
        "for i, arr in enumerate(X_all):\n",
        "    print(f\"Index {i}: shape = {np.array(arr).shape}\")\n"
      ],
      "metadata": {
        "id": "Fi41MKGOFq54",
        "colab": {
          "base_uri": "https://localhost:8080/"
        },
        "outputId": "cbe2399e-4ee7-4a7f-d859-0e56ee20f364"
      },
      "id": "Fi41MKGOFq54",
      "execution_count": null,
      "outputs": [
        {
          "output_type": "stream",
          "name": "stdout",
          "text": [
            "Index 0: shape = (15, 23168)\n",
            "Index 1: shape = (15, 23168)\n",
            "Index 2: shape = (15, 23168)\n",
            "Index 3: shape = (15, 23168)\n",
            "Index 4: shape = (15, 23168)\n",
            "Index 5: shape = (15, 23168)\n",
            "Index 6: shape = (15, 23168)\n",
            "Index 7: shape = (15, 23168)\n",
            "Index 8: shape = (15, 23168)\n",
            "Index 9: shape = (15, 23168)\n",
            "Index 10: shape = (15, 23168)\n",
            "Index 11: shape = (15, 23168)\n",
            "Index 12: shape = (15, 23168)\n",
            "Index 13: shape = (15, 23168)\n",
            "Index 14: shape = (15, 23168)\n",
            "Index 15: shape = (15, 23168)\n",
            "Index 16: shape = (15, 23168)\n",
            "Index 17: shape = (15, 23168)\n",
            "Index 18: shape = (15, 23168)\n",
            "Index 19: shape = (15, 23168)\n",
            "Index 20: shape = (15, 23168)\n",
            "Index 21: shape = (15, 23168)\n",
            "Index 22: shape = (15, 23168)\n",
            "Index 23: shape = (15, 23168)\n",
            "Index 24: shape = (15, 23168)\n",
            "Index 25: shape = (15, 23168)\n",
            "Index 26: shape = (15, 23168)\n",
            "Index 27: shape = (15, 23168)\n",
            "Index 28: shape = (15, 23168)\n",
            "Index 29: shape = (15, 23168)\n",
            "Index 30: shape = (15, 23168)\n",
            "Index 31: shape = (15, 23168)\n",
            "Index 32: shape = (15, 23168)\n",
            "Index 33: shape = (15, 23168)\n",
            "Index 34: shape = (15, 23168)\n",
            "Index 35: shape = (15, 23168)\n",
            "Index 36: shape = (15, 23168)\n",
            "Index 37: shape = (15, 23168)\n",
            "Index 38: shape = (15, 23168)\n",
            "Index 39: shape = (15, 23168)\n",
            "Index 40: shape = (15, 23168)\n",
            "Index 41: shape = (15, 23168)\n",
            "Index 42: shape = (15, 23168)\n",
            "Index 43: shape = (15, 23168)\n",
            "Index 44: shape = (15, 23168)\n",
            "Index 45: shape = (15, 23168)\n",
            "Index 46: shape = (15, 23168)\n",
            "Index 47: shape = (15, 23168)\n",
            "Index 48: shape = (15, 23168)\n",
            "Index 49: shape = (15, 23168)\n",
            "Index 50: shape = (15, 23168)\n",
            "Index 51: shape = (15, 23168)\n",
            "Index 52: shape = (15, 23168)\n",
            "Index 53: shape = (15, 23168)\n",
            "Index 54: shape = (15, 23168)\n",
            "Index 55: shape = (15, 23168)\n",
            "Index 56: shape = (15, 23168)\n",
            "Index 57: shape = (15, 23168)\n",
            "Index 58: shape = (15, 23168)\n",
            "Index 59: shape = (15, 23168)\n",
            "Index 60: shape = (15, 23168)\n",
            "Index 61: shape = (15, 23168)\n",
            "Index 62: shape = (15, 23168)\n",
            "Index 63: shape = (15, 23168)\n",
            "Index 64: shape = (15, 23168)\n",
            "Index 65: shape = (15, 23168)\n",
            "Index 66: shape = (15, 23168)\n",
            "Index 67: shape = (15, 23168)\n",
            "Index 68: shape = (15, 23168)\n",
            "Index 69: shape = (15, 23168)\n",
            "Index 70: shape = (15, 23168)\n",
            "Index 71: shape = (15, 23168)\n",
            "Index 72: shape = (15, 23168)\n",
            "Index 73: shape = (15, 23168)\n",
            "Index 74: shape = (15, 23168)\n",
            "Index 75: shape = (15, 23168)\n",
            "Index 76: shape = (15, 23168)\n",
            "Index 77: shape = (15, 23168)\n",
            "Index 78: shape = (15, 23168)\n",
            "Index 79: shape = (15, 23168)\n",
            "Index 80: shape = (15, 23168)\n",
            "Index 81: shape = (15, 23168)\n",
            "Index 82: shape = (15, 23168)\n",
            "Index 83: shape = (15, 23168)\n",
            "Index 84: shape = (15, 23168)\n",
            "Index 85: shape = (15, 23168)\n",
            "Index 86: shape = (15, 23168)\n",
            "Index 87: shape = (15, 23168)\n",
            "Index 88: shape = (15, 23168)\n",
            "Index 89: shape = (15, 23168)\n",
            "Index 90: shape = (15, 23168)\n",
            "Index 91: shape = (15, 23168)\n",
            "Index 92: shape = (15, 23168)\n",
            "Index 93: shape = (15, 23168)\n",
            "Index 94: shape = (15, 23168)\n",
            "Index 95: shape = (15, 23168)\n",
            "Index 96: shape = (15, 23168)\n",
            "Index 97: shape = (15, 23168)\n",
            "Index 98: shape = (15, 23168)\n",
            "Index 99: shape = (15, 23168)\n",
            "Index 100: shape = (15, 23168)\n",
            "Index 101: shape = (15, 23168)\n",
            "Index 102: shape = (15, 23168)\n",
            "Index 103: shape = (15, 23168)\n",
            "Index 104: shape = (15, 23168)\n",
            "Index 105: shape = (15, 23168)\n",
            "Index 106: shape = (15, 23168)\n",
            "Index 107: shape = (15, 23168)\n",
            "Index 108: shape = (15, 23168)\n",
            "Index 109: shape = (15, 23168)\n",
            "Index 110: shape = (15, 23168)\n",
            "Index 111: shape = (15, 23168)\n",
            "Index 112: shape = (15, 23168)\n",
            "Index 113: shape = (15, 23168)\n",
            "Index 114: shape = (15, 23168)\n",
            "Index 115: shape = (15, 23168)\n",
            "Index 116: shape = (15, 23168)\n",
            "Index 117: shape = (15, 23168)\n",
            "Index 118: shape = (15, 23168)\n",
            "Index 119: shape = (15, 23168)\n",
            "Index 120: shape = (15, 23168)\n",
            "Index 121: shape = (15, 23168)\n",
            "Index 122: shape = (15, 23168)\n",
            "Index 123: shape = (15, 23168)\n",
            "Index 124: shape = (15, 23168)\n",
            "Index 125: shape = (15, 23168)\n",
            "Index 126: shape = (15, 23168)\n",
            "Index 127: shape = (15, 23168)\n",
            "Index 128: shape = (15, 23168)\n",
            "Index 129: shape = (15, 23168)\n",
            "Index 130: shape = (15, 23168)\n",
            "Index 131: shape = (15, 23168)\n",
            "Index 132: shape = (15, 23168)\n",
            "Index 133: shape = (15, 23168)\n"
          ]
        }
      ]
    },
    {
      "cell_type": "code",
      "source": [
        "\n",
        "X_train_t = torch.tensor(X_train[:, np.newaxis, :, :], dtype=torch.float32)\n",
        "X_test_t  = torch.tensor(X_test[:, np.newaxis, :, :], dtype=torch.float32)\n",
        "X_eval_t  = torch.tensor(X_eval[:, np.newaxis, :, :], dtype=torch.float32)\n",
        "\n",
        "y_train_t = torch.tensor(y_train, dtype=torch.long)\n",
        "y_test_t  = torch.tensor(y_test, dtype=torch.long)\n",
        "y_eval_t  = torch.tensor(y_eval, dtype=torch.long)\n",
        "\n",
        "print(\"✅ Shapes after adjustment:\")\n",
        "print(\"Train:\", X_train_t.shape, y_train_t.shape)\n",
        "print(\"Test:\", X_test_t.shape, y_test_t.shape)\n",
        "print(\"Eval:\", X_eval_t.shape, y_eval_t.shape)\n"
      ],
      "metadata": {
        "colab": {
          "base_uri": "https://localhost:8080/"
        },
        "id": "mHgMXR6Ai7aN",
        "outputId": "14f70fae-9b87-4f0d-aba5-fc7c2ce76d81"
      },
      "id": "mHgMXR6Ai7aN",
      "execution_count": null,
      "outputs": [
        {
          "output_type": "stream",
          "name": "stdout",
          "text": [
            "✅ Shapes after adjustment:\n",
            "Train: torch.Size([93, 1, 15, 23168]) torch.Size([93])\n",
            "Test: torch.Size([27, 1, 15, 23168]) torch.Size([27])\n",
            "Eval: torch.Size([14, 1, 15, 23168]) torch.Size([14])\n"
          ]
        }
      ]
    },
    {
      "cell_type": "markdown",
      "source": [
        "EEGNet Model Definition"
      ],
      "metadata": {
        "id": "Rum-C2AfoBeh"
      },
      "id": "Rum-C2AfoBeh"
    },
    {
      "cell_type": "code",
      "source": [
        "import torch\n",
        "import torch.nn as nn\n",
        "\n",
        "class EEGNet(nn.Module):\n",
        "    def __init__(self, num_classes, Chans=64, Samples=128, dropoutRate=0.8, activation='ELU'):\n",
        "        super(EEGNet, self).__init__()\n",
        "\n",
        "        self.firstConv = nn.Sequential(\n",
        "            nn.Conv2d(1, 16, (1, 64), padding=(0, 32), bias=False),\n",
        "            nn.BatchNorm2d(16)\n",
        "        )\n",
        "\n",
        "        # Define the activation function based on the input string\n",
        "        if activation == 'ELU':\n",
        "            self.activation = nn.ELU()\n",
        "        elif activation == 'tanh':\n",
        "            self.activation = nn.Tanh()\n",
        "        elif activation == 'swish':\n",
        "            self.activation = nn.SiLU() # SiLU is the PyTorch implementation of Swish\n",
        "        else:\n",
        "            raise ValueError(f\"Unsupported activation function: {activation}\")\n",
        "\n",
        "\n",
        "        self.depthwiseConv = nn.Sequential(\n",
        "            nn.Conv2d(16, 32, (Chans, 1), groups=16, bias=False),\n",
        "            nn.BatchNorm2d(32),\n",
        "            self.activation, # Use the selected activation\n",
        "            nn.AvgPool2d((1, 4)),\n",
        "            nn.Dropout(dropoutRate)\n",
        "        )\n",
        "\n",
        "        self.separableConv = nn.Sequential(\n",
        "            nn.Conv2d(32, 32, (1, 16), padding=(0, 8), bias=False),\n",
        "            nn.BatchNorm2d(32),\n",
        "            self.activation, # Use the selected activation\n",
        "            nn.AvgPool2d((1, 8)),\n",
        "            nn.Dropout(dropoutRate)\n",
        "        )\n",
        "\n",
        "        test_input = torch.zeros(1, 1, Chans, Samples)\n",
        "        out = self.separableConv(self.depthwiseConv(self.firstConv(test_input)))\n",
        "        flattened_size = out.shape[1] * out.shape[2] * out.shape[3]\n",
        "\n",
        "        self.classify = nn.Linear(flattened_size, num_classes)\n",
        "\n",
        "    def forward(self, x):\n",
        "        x = self.firstConv(x)\n",
        "        x = self.depthwiseConv(x)\n",
        "        x = self.separableConv(x)\n",
        "        x = x.view(x.size(0), -1)\n",
        "        return self.classify(x)"
      ],
      "metadata": {
        "id": "4C3al2eTj3Fs"
      },
      "id": "4C3al2eTj3Fs",
      "execution_count": null,
      "outputs": []
    },
    {
      "cell_type": "markdown",
      "source": [
        "Dataset Split (70% Train / 20% Test / 10% Eval)"
      ],
      "metadata": {
        "id": "lIMo4TJMnuW0"
      },
      "id": "lIMo4TJMnuW0"
    },
    {
      "cell_type": "code",
      "source": [
        "import torch\n",
        "import torch.nn as nn\n",
        "from torch.utils.data import DataLoader, TensorDataset\n",
        "import matplotlib.pyplot as plt\n",
        "\n",
        "# =============================\n",
        "# 🔹 User-defined parameters\n",
        "# =============================\n",
        "batch_size = 128\n",
        "n_epochs = 100\n",
        "learning_rate = 0.0001\n",
        "dropout_rate = 0.6\n",
        "activation_fn = 'tanh'\n",
        "\n",
        "# =============================\n",
        "# 🔹 Prepare DataLoaders\n",
        "# =============================\n",
        "train_loader = DataLoader(TensorDataset(X_train_t, y_train_t), batch_size=batch_size, shuffle=True)\n",
        "test_loader  = DataLoader(TensorDataset(X_test_t, y_test_t), batch_size=batch_size, shuffle=False)\n",
        "eval_loader  = DataLoader(TensorDataset(X_eval_t, y_eval_t), batch_size=batch_size, shuffle=False)\n",
        "\n",
        "# =============================\n",
        "# 🔹 Model Setup\n",
        "# =============================\n",
        "device = torch.device(\"cuda\" if torch.cuda.is_available() else \"cpu\")\n",
        "num_classes = len(set(y_all))\n",
        "Chans = X_all.shape[1]     # since X_train_t = [batch, 1, Chans, Samples]\n",
        "Samples = X_all.shape[2]\n",
        "\n",
        "model = EEGNet(num_classes=num_classes, Chans=Chans, Samples=Samples,\n",
        "               dropoutRate=dropout_rate, activation=activation_fn).to(device)\n",
        "\n",
        "criterion = nn.CrossEntropyLoss()\n",
        "optimizer = torch.optim.Adam(model.parameters(), lr=learning_rate)\n",
        "\n",
        "# =============================\n",
        "# 🔹 Training Loop\n",
        "# =============================\n",
        "train_losses, eval_losses = [], []\n",
        "\n",
        "print(f\"\\n===== Training EEGNet with batch size {batch_size} for {n_epochs} epochs =====\\n\")\n",
        "\n",
        "for epoch in range(n_epochs):\n",
        "    model.train()\n",
        "    train_loss, correct_train = 0, 0\n",
        "\n",
        "    for X_batch, y_batch in train_loader:\n",
        "        X_batch, y_batch = X_batch.to(device), y_batch.to(device)\n",
        "\n",
        "        optimizer.zero_grad()\n",
        "        output = model(X_batch)\n",
        "        loss = criterion(output, y_batch)\n",
        "        loss.backward()\n",
        "        optimizer.step()\n",
        "\n",
        "        train_loss += loss.item()\n",
        "        preds = output.argmax(dim=1)\n",
        "        correct_train += (preds == y_batch).sum().item()\n",
        "\n",
        "    avg_train_loss = train_loss / len(train_loader)\n",
        "    acc_train = correct_train / len(train_loader.dataset)\n",
        "    train_losses.append(avg_train_loss)\n",
        "\n",
        "    # ---------------- Validation ----------------\n",
        "    model.eval()\n",
        "    eval_loss, correct_eval = 0, 0\n",
        "    with torch.no_grad():\n",
        "        for X_batch, y_batch in eval_loader:\n",
        "            X_batch, y_batch = X_batch.to(device), y_batch.to(device)\n",
        "            output = model(X_batch)\n",
        "            loss = criterion(output, y_batch)\n",
        "            eval_loss += loss.item()\n",
        "\n",
        "            preds = output.argmax(dim=1)\n",
        "            correct_eval += (preds == y_batch).sum().item()\n",
        "\n",
        "    avg_eval_loss = eval_loss / len(eval_loader)\n",
        "    acc_eval = correct_eval / len(eval_loader.dataset)\n",
        "    eval_losses.append(avg_eval_loss)\n",
        "\n",
        "    print(f\"Epoch [{epoch+1}/{n_epochs}] \"\n",
        "          f\"Train Loss: {avg_train_loss:.4f} | Train Acc: {acc_train:.4f} \"\n",
        "          f\"| Eval Loss: {avg_eval_loss:.4f} | Eval Acc: {acc_eval:.4f}\")\n",
        "\n",
        "# =============================\n",
        "# 🔹 Final Test Accuracy\n",
        "# =============================\n",
        "model.eval()\n",
        "correct_test = 0\n",
        "with torch.no_grad():\n",
        "    for X_batch, y_batch in test_loader:\n",
        "        X_batch, y_batch = X_batch.to(device), y_batch.to(device)\n",
        "        output = model(X_batch)\n",
        "        preds = output.argmax(dim=1)\n",
        "        correct_test += (preds == y_batch).sum().item()\n",
        "\n",
        "acc_test = correct_test / len(test_loader.dataset)\n",
        "\n",
        "print(f\"\\n✅ Finished training | Train Acc: {acc_train:.4f} | Eval Acc: {acc_eval:.4f} | Test Acc: {acc_test:.4f}\")\n",
        "\n",
        "# =============================\n",
        "# 🔹 Plot Loss Curves\n",
        "# =============================\n",
        "plt.figure(figsize=(10, 5))\n",
        "plt.plot(train_losses, label=\"Train Loss\")\n",
        "plt.plot(eval_losses, label=\"Eval Loss\", linestyle=\"--\")\n",
        "plt.xlabel(\"Epoch\")\n",
        "plt.ylabel(\"Loss\")\n",
        "plt.title(f\"Training & Validation Loss (Batch Size={batch_size})\")\n",
        "plt.legend()\n",
        "plt.grid(True, linestyle=\"--\", alpha=0.6)\n",
        "plt.show()\n"
      ],
      "metadata": {
        "colab": {
          "base_uri": "https://localhost:8080/",
          "height": 1000
        },
        "id": "d7Gb2J2ulf8E",
        "outputId": "36bd73be-073a-4680-f4d0-c2e8281b44ac"
      },
      "id": "d7Gb2J2ulf8E",
      "execution_count": null,
      "outputs": [
        {
          "output_type": "stream",
          "name": "stdout",
          "text": [
            "\n",
            "===== Training EEGNet with batch size 128 for 100 epochs =====\n",
            "\n",
            "Epoch [1/100] Train Loss: 0.7163 | Train Acc: 0.4194 | Eval Loss: 0.6930 | Eval Acc: 0.5714\n",
            "Epoch [2/100] Train Loss: 0.6617 | Train Acc: 0.6344 | Eval Loss: 0.6941 | Eval Acc: 0.3571\n",
            "Epoch [3/100] Train Loss: 0.6602 | Train Acc: 0.6344 | Eval Loss: 0.6950 | Eval Acc: 0.3571\n",
            "Epoch [4/100] Train Loss: 0.6480 | Train Acc: 0.6989 | Eval Loss: 0.6955 | Eval Acc: 0.3571\n",
            "Epoch [5/100] Train Loss: 0.6322 | Train Acc: 0.6559 | Eval Loss: 0.6956 | Eval Acc: 0.3571\n",
            "Epoch [6/100] Train Loss: 0.6306 | Train Acc: 0.6882 | Eval Loss: 0.6955 | Eval Acc: 0.3571\n",
            "Epoch [7/100] Train Loss: 0.6130 | Train Acc: 0.7097 | Eval Loss: 0.6953 | Eval Acc: 0.4286\n",
            "Epoch [8/100] Train Loss: 0.6055 | Train Acc: 0.7204 | Eval Loss: 0.6951 | Eval Acc: 0.4286\n",
            "Epoch [9/100] Train Loss: 0.5918 | Train Acc: 0.7419 | Eval Loss: 0.6951 | Eval Acc: 0.4286\n",
            "Epoch [10/100] Train Loss: 0.6000 | Train Acc: 0.6667 | Eval Loss: 0.6949 | Eval Acc: 0.4286\n",
            "Epoch [11/100] Train Loss: 0.5832 | Train Acc: 0.7419 | Eval Loss: 0.6945 | Eval Acc: 0.4286\n",
            "Epoch [12/100] Train Loss: 0.5829 | Train Acc: 0.7097 | Eval Loss: 0.6939 | Eval Acc: 0.5000\n",
            "Epoch [13/100] Train Loss: 0.5669 | Train Acc: 0.7312 | Eval Loss: 0.6936 | Eval Acc: 0.5000\n",
            "Epoch [14/100] Train Loss: 0.5731 | Train Acc: 0.7312 | Eval Loss: 0.6934 | Eval Acc: 0.5000\n",
            "Epoch [15/100] Train Loss: 0.5591 | Train Acc: 0.7312 | Eval Loss: 0.6935 | Eval Acc: 0.5000\n",
            "Epoch [16/100] Train Loss: 0.5939 | Train Acc: 0.6882 | Eval Loss: 0.6945 | Eval Acc: 0.5000\n",
            "Epoch [17/100] Train Loss: 0.5595 | Train Acc: 0.7312 | Eval Loss: 0.6959 | Eval Acc: 0.4286\n",
            "Epoch [18/100] Train Loss: 0.5407 | Train Acc: 0.7527 | Eval Loss: 0.6974 | Eval Acc: 0.4286\n",
            "Epoch [19/100] Train Loss: 0.5615 | Train Acc: 0.7097 | Eval Loss: 0.6974 | Eval Acc: 0.4286\n",
            "Epoch [20/100] Train Loss: 0.5457 | Train Acc: 0.7312 | Eval Loss: 0.6966 | Eval Acc: 0.5000\n",
            "Epoch [21/100] Train Loss: 0.5469 | Train Acc: 0.7312 | Eval Loss: 0.6945 | Eval Acc: 0.5000\n",
            "Epoch [22/100] Train Loss: 0.5261 | Train Acc: 0.7527 | Eval Loss: 0.6915 | Eval Acc: 0.5000\n",
            "Epoch [23/100] Train Loss: 0.5120 | Train Acc: 0.7742 | Eval Loss: 0.6885 | Eval Acc: 0.5000\n",
            "Epoch [24/100] Train Loss: 0.5077 | Train Acc: 0.7634 | Eval Loss: 0.6857 | Eval Acc: 0.5714\n",
            "Epoch [25/100] Train Loss: 0.4955 | Train Acc: 0.7634 | Eval Loss: 0.6830 | Eval Acc: 0.5714\n",
            "Epoch [26/100] Train Loss: 0.5000 | Train Acc: 0.7742 | Eval Loss: 0.6807 | Eval Acc: 0.5714\n",
            "Epoch [27/100] Train Loss: 0.4821 | Train Acc: 0.7742 | Eval Loss: 0.6793 | Eval Acc: 0.5714\n",
            "Epoch [28/100] Train Loss: 0.5195 | Train Acc: 0.7419 | Eval Loss: 0.6766 | Eval Acc: 0.5714\n",
            "Epoch [29/100] Train Loss: 0.5063 | Train Acc: 0.7527 | Eval Loss: 0.6736 | Eval Acc: 0.5714\n",
            "Epoch [30/100] Train Loss: 0.5026 | Train Acc: 0.7742 | Eval Loss: 0.6675 | Eval Acc: 0.5714\n",
            "Epoch [31/100] Train Loss: 0.4734 | Train Acc: 0.7849 | Eval Loss: 0.6589 | Eval Acc: 0.4286\n",
            "Epoch [32/100] Train Loss: 0.4690 | Train Acc: 0.7957 | Eval Loss: 0.6505 | Eval Acc: 0.4286\n",
            "Epoch [33/100] Train Loss: 0.4524 | Train Acc: 0.7957 | Eval Loss: 0.6451 | Eval Acc: 0.5714\n",
            "Epoch [34/100] Train Loss: 0.5011 | Train Acc: 0.7634 | Eval Loss: 0.6433 | Eval Acc: 0.5000\n",
            "Epoch [35/100] Train Loss: 0.4321 | Train Acc: 0.7957 | Eval Loss: 0.6414 | Eval Acc: 0.4286\n",
            "Epoch [36/100] Train Loss: 0.4497 | Train Acc: 0.7957 | Eval Loss: 0.6380 | Eval Acc: 0.5000\n",
            "Epoch [37/100] Train Loss: 0.4588 | Train Acc: 0.7742 | Eval Loss: 0.6343 | Eval Acc: 0.5000\n",
            "Epoch [38/100] Train Loss: 0.4486 | Train Acc: 0.7957 | Eval Loss: 0.6314 | Eval Acc: 0.6429\n",
            "Epoch [39/100] Train Loss: 0.4457 | Train Acc: 0.7849 | Eval Loss: 0.6303 | Eval Acc: 0.5714\n",
            "Epoch [40/100] Train Loss: 0.4483 | Train Acc: 0.7957 | Eval Loss: 0.6300 | Eval Acc: 0.5714\n",
            "Epoch [41/100] Train Loss: 0.4408 | Train Acc: 0.7849 | Eval Loss: 0.6287 | Eval Acc: 0.5714\n",
            "Epoch [42/100] Train Loss: 0.4393 | Train Acc: 0.7957 | Eval Loss: 0.6265 | Eval Acc: 0.5000\n",
            "Epoch [43/100] Train Loss: 0.4090 | Train Acc: 0.7957 | Eval Loss: 0.6238 | Eval Acc: 0.5000\n",
            "Epoch [44/100] Train Loss: 0.4323 | Train Acc: 0.7957 | Eval Loss: 0.6213 | Eval Acc: 0.5000\n",
            "Epoch [45/100] Train Loss: 0.4278 | Train Acc: 0.7957 | Eval Loss: 0.6194 | Eval Acc: 0.5000\n",
            "Epoch [46/100] Train Loss: 0.4092 | Train Acc: 0.8065 | Eval Loss: 0.6207 | Eval Acc: 0.5000\n",
            "Epoch [47/100] Train Loss: 0.4107 | Train Acc: 0.7957 | Eval Loss: 0.6240 | Eval Acc: 0.5000\n",
            "Epoch [48/100] Train Loss: 0.4113 | Train Acc: 0.7957 | Eval Loss: 0.6226 | Eval Acc: 0.5000\n",
            "Epoch [49/100] Train Loss: 0.4102 | Train Acc: 0.7957 | Eval Loss: 0.6197 | Eval Acc: 0.5000\n",
            "Epoch [50/100] Train Loss: 0.3878 | Train Acc: 0.8387 | Eval Loss: 0.6210 | Eval Acc: 0.5000\n",
            "Epoch [51/100] Train Loss: 0.3879 | Train Acc: 0.8172 | Eval Loss: 0.6273 | Eval Acc: 0.5714\n",
            "Epoch [52/100] Train Loss: 0.3941 | Train Acc: 0.7957 | Eval Loss: 0.6384 | Eval Acc: 0.5714\n",
            "Epoch [53/100] Train Loss: 0.3550 | Train Acc: 0.7957 | Eval Loss: 0.6431 | Eval Acc: 0.5714\n",
            "Epoch [54/100] Train Loss: 0.3806 | Train Acc: 0.8065 | Eval Loss: 0.6405 | Eval Acc: 0.5714\n",
            "Epoch [55/100] Train Loss: 0.3747 | Train Acc: 0.8387 | Eval Loss: 0.6466 | Eval Acc: 0.6429\n",
            "Epoch [56/100] Train Loss: 0.3754 | Train Acc: 0.8172 | Eval Loss: 0.6546 | Eval Acc: 0.6429\n",
            "Epoch [57/100] Train Loss: 0.3392 | Train Acc: 0.8172 | Eval Loss: 0.6568 | Eval Acc: 0.5714\n",
            "Epoch [58/100] Train Loss: 0.3499 | Train Acc: 0.8387 | Eval Loss: 0.6585 | Eval Acc: 0.5714\n",
            "Epoch [59/100] Train Loss: 0.3299 | Train Acc: 0.8495 | Eval Loss: 0.6688 | Eval Acc: 0.5714\n",
            "Epoch [60/100] Train Loss: 0.3283 | Train Acc: 0.8065 | Eval Loss: 0.6602 | Eval Acc: 0.5714\n",
            "Epoch [61/100] Train Loss: 0.3337 | Train Acc: 0.8925 | Eval Loss: 0.6693 | Eval Acc: 0.5714\n",
            "Epoch [62/100] Train Loss: 0.3028 | Train Acc: 0.8817 | Eval Loss: 0.6828 | Eval Acc: 0.5000\n",
            "Epoch [63/100] Train Loss: 0.2958 | Train Acc: 0.8387 | Eval Loss: 0.6925 | Eval Acc: 0.4286\n",
            "Epoch [64/100] Train Loss: 0.2933 | Train Acc: 0.8602 | Eval Loss: 0.6918 | Eval Acc: 0.5000\n",
            "Epoch [65/100] Train Loss: 0.2837 | Train Acc: 0.9140 | Eval Loss: 0.6988 | Eval Acc: 0.4286\n",
            "Epoch [66/100] Train Loss: 0.2868 | Train Acc: 0.9032 | Eval Loss: 0.7010 | Eval Acc: 0.4286\n",
            "Epoch [67/100] Train Loss: 0.2776 | Train Acc: 0.9570 | Eval Loss: 0.7204 | Eval Acc: 0.5000\n",
            "Epoch [68/100] Train Loss: 0.2540 | Train Acc: 0.9570 | Eval Loss: 0.7480 | Eval Acc: 0.5000\n",
            "Epoch [69/100] Train Loss: 0.2560 | Train Acc: 0.9355 | Eval Loss: 0.7537 | Eval Acc: 0.5714\n",
            "Epoch [70/100] Train Loss: 0.2560 | Train Acc: 0.9570 | Eval Loss: 0.7661 | Eval Acc: 0.5714\n",
            "Epoch [71/100] Train Loss: 0.2420 | Train Acc: 0.9892 | Eval Loss: 0.8180 | Eval Acc: 0.4286\n",
            "Epoch [72/100] Train Loss: 0.2482 | Train Acc: 0.8817 | Eval Loss: 0.8104 | Eval Acc: 0.4286\n",
            "Epoch [73/100] Train Loss: 0.2358 | Train Acc: 0.9355 | Eval Loss: 0.7715 | Eval Acc: 0.4286\n",
            "Epoch [74/100] Train Loss: 0.2406 | Train Acc: 0.9892 | Eval Loss: 0.7947 | Eval Acc: 0.4286\n",
            "Epoch [75/100] Train Loss: 0.1993 | Train Acc: 0.9892 | Eval Loss: 0.8331 | Eval Acc: 0.4286\n",
            "Epoch [76/100] Train Loss: 0.2104 | Train Acc: 0.9677 | Eval Loss: 0.8524 | Eval Acc: 0.4286\n",
            "Epoch [77/100] Train Loss: 0.2027 | Train Acc: 0.9570 | Eval Loss: 0.8394 | Eval Acc: 0.4286\n",
            "Epoch [78/100] Train Loss: 0.1913 | Train Acc: 0.9677 | Eval Loss: 0.8187 | Eval Acc: 0.5000\n",
            "Epoch [79/100] Train Loss: 0.1809 | Train Acc: 1.0000 | Eval Loss: 0.8381 | Eval Acc: 0.5000\n",
            "Epoch [80/100] Train Loss: 0.1738 | Train Acc: 1.0000 | Eval Loss: 0.8939 | Eval Acc: 0.4286\n",
            "Epoch [81/100] Train Loss: 0.1671 | Train Acc: 0.9892 | Eval Loss: 0.9599 | Eval Acc: 0.4286\n",
            "Epoch [82/100] Train Loss: 0.1710 | Train Acc: 0.9892 | Eval Loss: 0.9586 | Eval Acc: 0.4286\n",
            "Epoch [83/100] Train Loss: 0.1510 | Train Acc: 0.9892 | Eval Loss: 0.9511 | Eval Acc: 0.5000\n",
            "Epoch [84/100] Train Loss: 0.1533 | Train Acc: 1.0000 | Eval Loss: 0.9624 | Eval Acc: 0.5000\n",
            "Epoch [85/100] Train Loss: 0.1459 | Train Acc: 1.0000 | Eval Loss: 0.9909 | Eval Acc: 0.5000\n",
            "Epoch [86/100] Train Loss: 0.1347 | Train Acc: 1.0000 | Eval Loss: 1.0257 | Eval Acc: 0.4286\n",
            "Epoch [87/100] Train Loss: 0.1408 | Train Acc: 0.9892 | Eval Loss: 1.0366 | Eval Acc: 0.4286\n",
            "Epoch [88/100] Train Loss: 0.1309 | Train Acc: 1.0000 | Eval Loss: 1.0227 | Eval Acc: 0.5000\n",
            "Epoch [89/100] Train Loss: 0.1131 | Train Acc: 1.0000 | Eval Loss: 1.0265 | Eval Acc: 0.5000\n",
            "Epoch [90/100] Train Loss: 0.1139 | Train Acc: 1.0000 | Eval Loss: 1.0800 | Eval Acc: 0.5000\n",
            "Epoch [91/100] Train Loss: 0.1222 | Train Acc: 0.9892 | Eval Loss: 1.1199 | Eval Acc: 0.5000\n",
            "Epoch [92/100] Train Loss: 0.1008 | Train Acc: 1.0000 | Eval Loss: 1.1694 | Eval Acc: 0.5000\n",
            "Epoch [93/100] Train Loss: 0.1147 | Train Acc: 1.0000 | Eval Loss: 1.2252 | Eval Acc: 0.5000\n",
            "Epoch [94/100] Train Loss: 0.1009 | Train Acc: 1.0000 | Eval Loss: 1.2558 | Eval Acc: 0.5000\n",
            "Epoch [95/100] Train Loss: 0.0946 | Train Acc: 1.0000 | Eval Loss: 1.2738 | Eval Acc: 0.5000\n",
            "Epoch [96/100] Train Loss: 0.0902 | Train Acc: 1.0000 | Eval Loss: 1.2759 | Eval Acc: 0.5000\n",
            "Epoch [97/100] Train Loss: 0.0874 | Train Acc: 1.0000 | Eval Loss: 1.2666 | Eval Acc: 0.5000\n",
            "Epoch [98/100] Train Loss: 0.0775 | Train Acc: 1.0000 | Eval Loss: 1.2452 | Eval Acc: 0.5000\n",
            "Epoch [99/100] Train Loss: 0.0875 | Train Acc: 1.0000 | Eval Loss: 1.2109 | Eval Acc: 0.5000\n",
            "Epoch [100/100] Train Loss: 0.0715 | Train Acc: 1.0000 | Eval Loss: 1.1937 | Eval Acc: 0.5000\n",
            "\n",
            "✅ Finished training | Train Acc: 1.0000 | Eval Acc: 0.5000 | Test Acc: 0.7037\n"
          ]
        },
        {
          "output_type": "display_data",
          "data": {
            "text/plain": [
              "<Figure size 1000x500 with 1 Axes>"
            ],
            "image/png": "[encoded data removed]"
          },
          "metadata": {}
        }
      ]
    },
    {
      "cell_type": "code",
      "source": [
        "from sklearn.metrics import (\n",
        "    accuracy_score, precision_score, recall_score,\n",
        "    f1_score, roc_auc_score, roc_curve,\n",
        "    classification_report, confusion_matrix\n",
        ")\n",
        "from scipy.stats import zscore\n",
        "import numpy as np\n",
        "import matplotlib.pyplot as plt\n",
        "import torch\n",
        "\n",
        "# ============================\n",
        "# 🔹 Evaluation Block\n",
        "# ============================\n",
        "\n",
        "# Ensure model is in evaluation mode\n",
        "model.eval()\n",
        "device = torch.device(\"cuda\" if torch.cuda.is_available() else \"cpu\")\n",
        "\n",
        "# Store predictions and true labels\n",
        "y_true = []\n",
        "y_pred = []\n",
        "y_probs = []\n",
        "\n",
        "with torch.no_grad():\n",
        "    for X_batch, y_batch in test_loader:\n",
        "        X_batch, y_batch = X_batch.to(device), y_batch.to(device)\n",
        "\n",
        "        # forward pass\n",
        "        outputs = model(X_batch)\n",
        "\n",
        "        # probabilities and predictions\n",
        "        probs = torch.softmax(outputs, dim=1)[:, 1].cpu().numpy()  # prob. of class 1\n",
        "        preds = outputs.argmax(dim=1).cpu().numpy()\n",
        "\n",
        "        y_true.extend(y_batch.cpu().numpy())\n",
        "        y_pred.extend(preds)\n",
        "        y_probs.extend(probs)\n",
        "\n",
        "# Convert to numpy arrays\n",
        "y_true = np.array(y_true)\n",
        "y_pred = np.array(y_pred)\n",
        "y_probs = np.array(y_probs)\n",
        "\n",
        "# -------------------------------\n",
        "# 🔹 Compute Metrics\n",
        "# -------------------------------\n",
        "acc  = accuracy_score(y_true, y_pred)\n",
        "prec = precision_score(y_true, y_pred, zero_division=0)\n",
        "rec  = recall_score(y_true, y_pred, zero_division=0)\n",
        "f1   = f1_score(y_true, y_pred, zero_division=0)\n",
        "auc  = roc_auc_score(y_true, y_probs)\n",
        "zsc  = zscore(y_probs)\n",
        "\n",
        "# -------------------------------\n",
        "# 🔹 Print Results\n",
        "# -------------------------------\n",
        "print(\"\\n=== 📈 Evaluation Metrics on Test Set ===\")\n",
        "print(f\"Accuracy   : {acc:.4f}\")\n",
        "print(f\"Precision  : {prec:.4f}\")\n",
        "print(f\"Recall     : {rec:.4f}\")\n",
        "print(f\"F1-Score   : {f1:.4f}\")\n",
        "print(f\"AUC        : {auc:.4f}\")\n",
        "print(f\"Z-Score (mean±std): {zsc.mean():.4f} ± {zsc.std():.4f}\")\n",
        "\n",
        "print(\"\\n--- Classification Report ---\")\n",
        "print(classification_report(y_true, y_pred, digits=4))\n",
        "\n",
        "print(\"--- Confusion Matrix ---\")\n",
        "print(confusion_matrix(y_true, y_pred))\n",
        "\n",
        "# -------------------------------\n",
        "# 🔹 Plot ROC Curve\n",
        "# -------------------------------\n",
        "fpr, tpr, _ = roc_curve(y_true, y_probs)\n",
        "plt.figure(figsize=(6, 5))\n",
        "plt.plot(fpr, tpr, label=f'ROC (AUC = {auc:.3f})', linewidth=2)\n",
        "plt.plot([0, 1], [0, 1], 'k--')\n",
        "plt.xlabel(\"False Positive Rate\")\n",
        "plt.ylabel(\"True Positive Rate\")\n",
        "plt.title(\"ROC Curve\")\n",
        "plt.legend(loc=\"lower right\")\n",
        "plt.grid(True, linestyle=\"--\", alpha=0.7)\n",
        "plt.show()\n"
      ],
      "metadata": {
        "id": "U803G3QlxFZ1",
        "outputId": "143dcccc-7e03-4770-8463-50d387a030b9",
        "colab": {
          "base_uri": "https://localhost:8080/",
          "height": 869
        }
      },
      "id": "U803G3QlxFZ1",
      "execution_count": null,
      "outputs": [
        {
          "output_type": "stream",
          "name": "stdout",
          "text": [
            "\n",
            "=== 📈 Evaluation Metrics on Test Set ===\n",
            "Accuracy   : 0.7037\n",
            "Precision  : 0.7273\n",
            "Recall     : 0.8889\n",
            "F1-Score   : 0.8000\n",
            "AUC        : 0.7654\n",
            "Z-Score (mean±std): -0.0000 ± 1.0000\n",
            "\n",
            "--- Classification Report ---\n",
            "              precision    recall  f1-score   support\n",
            "\n",
            "           0     0.6000    0.3333    0.4286         9\n",
            "           1     0.7273    0.8889    0.8000        18\n",
            "\n",
            "    accuracy                         0.7037        27\n",
            "   macro avg     0.6636    0.6111    0.6143        27\n",
            "weighted avg     0.6848    0.7037    0.6762        27\n",
            "\n",
            "--- Confusion Matrix ---\n",
            "[[ 3  6]\n",
            " [ 2 16]]\n"
          ]
        },
        {
          "output_type": "display_data",
          "data": {
            "text/plain": [
              "<Figure size 600x500 with 1 Axes>"
            ],
            "image/png": "[encoded data removed]"
          },
          "metadata": {}
        }
      ]
    },
    {
      "cell_type": "code",
      "source": [
        "from scipy.stats import norm\n",
        "\n",
        "# Number of test samples\n",
        "n = len(y_true)\n",
        "\n",
        "# Observed accuracy from your EEGNet results\n",
        "p = accuracy_score(y_true, y_pred)\n",
        "\n",
        "# Null hypothesis: accuracy = 0.5 (random chance level for binary classification)\n",
        "p0 = 0.5\n",
        "\n",
        "# Compute z-statistic\n",
        "z_stat = (p - p0) / np.sqrt((p0 * (1 - p0)) / n)\n",
        "\n",
        "# Two-tailed p-value\n",
        "p_value = 2 * (1 - norm.cdf(abs(z_stat)))\n",
        "\n",
        "print(\"\\n=== 🧮 Statistical Significance Test (EEGNet) ===\")\n",
        "print(f\"z-statistic: {z_stat:.4f}, p-value: {p_value:.6f}\")\n"
      ],
      "metadata": {
        "id": "XouSS9zv4352",
        "outputId": "4e4118fb-7719-49d0-c4ea-adf9259d0055",
        "colab": {
          "base_uri": "https://localhost:8080/"
        }
      },
      "id": "XouSS9zv4352",
      "execution_count": null,
      "outputs": [
        {
          "output_type": "stream",
          "name": "stdout",
          "text": [
            "\n",
            "=== 🧮 Statistical Significance Test (EEGNet) ===\n",
            "z-statistic: 2.1170, p-value: 0.034264\n"
          ]
        }
      ]
    },
    {
      "cell_type": "markdown",
      "source": [
        "Model Initialization & Optimizer"
      ],
      "metadata": {
        "id": "sfGwLRTjnr9-"
      },
      "id": "sfGwLRTjnr9-"
    },
    {
      "cell_type": "markdown",
      "source": [
        "Final Evaluation on Eval Set"
      ],
      "metadata": {
        "id": "WdhfkBrMnfbG"
      },
      "id": "WdhfkBrMnfbG"
    },
    {
      "cell_type": "code",
      "metadata": {
        "colab": {
          "base_uri": "https://localhost:8080/",
          "height": 564
        },
        "id": "fc37ea77",
        "outputId": "402ea022-215c-4d88-f4c2-cf12d01d5aba"
      },
      "source": [
        "import matplotlib.pyplot as plt\n",
        "\n",
        "# Assuming you have stored training and validation loss per epoch\n",
        "# If not, you would need to modify the training loop to store these values.\n",
        "\n",
        "  # Placeholder data - replace with your actual loss lists\n",
        "# Example:\n",
        "# train_losses = [...] # List of training loss per epoch\n",
        "# val_losses = [...]   # List of validation loss per epoch\n",
        "\n",
        "# For now, we'll use the last calculated values, but for a proper curve,\n",
        "# you need to store the loss at the end of each epoch in the training loop.\n",
        "# Let's assume 'train_loss_history' and 'val_loss_history' lists exist\n",
        "# from the training loop. If not, you'll need to rerun the training with logging.\n",
        "\n",
        "# If you ran the training loop cell by cell, you might not have the history.\n",
        "# To get the history, you need to modify the training loop to append loss\n",
        "# values to lists at the end of each epoch.\n",
        "\n",
        "# Assuming you have lists named train_loss_history and val_loss_history\n",
        "# If not, the following code will not produce a meaningful curve.\n",
        "# You would need to re-run the training cell after adding loss logging.\n",
        "\n",
        "# Example (assuming loss history lists are populated in the training cell):\n",
        "plt.figure(figsize=(10, 6))\n",
        "plt.plot(range(1, n_epochs + 1), train_loss_history, label='Training Loss')\n",
        "plt.plot(range(1, n_epochs + 1), val_loss_history, label='Validation Loss')\n",
        "plt.xlabel('Epoch')\n",
        "plt.ylabel('Loss')\n",
        "plt.title('Training and Validation Loss Curve')\n",
        "plt.legend()\n",
        "plt.grid(True)\n",
        "plt.show()\n",
        "\n",
        "# print(\"To plot the loss curve, please ensure you have lists storing the training and validation loss at the end of each epoch in the training loop.\")\n",
        "# print(\"If you modified the training loop to store loss history, uncomment the plotting code above.\")"
      ],
      "id": "fc37ea77",
      "execution_count": null,
      "outputs": [
        {
          "output_type": "display_data",
          "data": {
            "text/plain": [
              "<Figure size 1000x600 with 1 Axes>"
            ],
            "image/png": "[encoded data removed]"
          },
          "metadata": {}
        }
      ]
    },
    {
      "cell_type": "code",
      "metadata": {
        "colab": {
          "base_uri": "https://localhost:8080/",
          "height": 564
        },
        "id": "051526ff",
        "outputId": "e49d5e51-5730-4a9f-ae80-ae9f1d75754b"
      },
      "source": [
        "plt.figure(figsize=(10, 6))\n",
        "plt.plot(range(1, n_epochs + 1), [acc * 100 for acc in train_loss_history], label='Training Accuracy') # Assuming accuracy is stored in train_loss_history (should be train_acc_history)\n",
        "plt.plot(range(1, n_epochs + 1), [acc * 100 for acc in val_loss_history], label='Validation Accuracy') # Assuming accuracy is stored in val_loss_history (should be val_acc_history)\n",
        "plt.xlabel('Epoch')\n",
        "plt.ylabel('Accuracy (%)')\n",
        "plt.title('Training and Validation Accuracy Curve')\n",
        "plt.legend()\n",
        "plt.grid(True)\n",
        "plt.show()"
      ],
      "id": "051526ff",
      "execution_count": null,
      "outputs": [
        {
          "output_type": "display_data",
          "data": {
            "text/plain": [
              "<Figure size 1000x600 with 1 Axes>"
            ],
            "image/png": "[encoded data removed]"
          },
          "metadata": {}
        }
      ]
    }
  ],
  "metadata": {
    "kernelspec": {
      "display_name": "Python 3",
      "name": "python3"
    },
    "colab": {
      "provenance": [],
      "gpuType": "T4",
      "include_colab_link": true
    },
    "accelerator": "GPU"
  },
  "nbformat": 4,
  "nbformat_minor": 5
}